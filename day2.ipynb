{
 "cells": [
  {
   "cell_type": "markdown",
   "id": "1df9bcbb",
   "metadata": {},
   "source": [
    "# DATA TYPE CONVERSION"
   ]
  },
  {
   "cell_type": "code",
   "execution_count": 1,
   "id": "cfba70df",
   "metadata": {},
   "outputs": [
    {
     "name": "stdout",
     "output_type": "stream",
     "text": [
      "14\n"
     ]
    }
   ],
   "source": [
    "num1 = int(14.5)\n",
    "print(num1)\n",
    "# FLOAT VALUE CAN BE CONVERTED TO INTEGER"
   ]
  },
  {
   "cell_type": "code",
   "execution_count": 2,
   "id": "4fc40614",
   "metadata": {},
   "outputs": [
    {
     "name": "stdout",
     "output_type": "stream",
     "text": [
      "14.0\n"
     ]
    }
   ],
   "source": [
    "print(float(num1))\n",
    "# INTEGER VALUE CAN BE CONVERTED TO FLOAT"
   ]
  },
  {
   "cell_type": "code",
   "execution_count": 3,
   "id": "d2e1ebab",
   "metadata": {},
   "outputs": [
    {
     "name": "stdout",
     "output_type": "stream",
     "text": [
      "14\n"
     ]
    }
   ],
   "source": [
    "print(str(num1))\n",
    "# INTEGER VALUE CAN BE CONVERTED TO STRING"
   ]
  },
  {
   "cell_type": "code",
   "execution_count": 4,
   "id": "9a784bff",
   "metadata": {},
   "outputs": [
    {
     "name": "stdout",
     "output_type": "stream",
     "text": [
      "12.5\n"
     ]
    }
   ],
   "source": [
    "num2 = 12.5\n",
    "print(str(num2))\n",
    "# FLOAT VALUE CAN BE CONVERTED TO string"
   ]
  },
  {
   "cell_type": "code",
   "execution_count": 7,
   "id": "fcfed91b",
   "metadata": {},
   "outputs": [
    {
     "name": "stdout",
     "output_type": "stream",
     "text": [
      "56.0\n"
     ]
    }
   ],
   "source": [
    "word = '56'\n",
    "print(float(word))\n",
    "#string VALUE CANNOT BE CONVERTED TO INTEGER or float except it is a digit as a string"
   ]
  },
  {
   "cell_type": "markdown",
   "id": "1de3b1d2",
   "metadata": {},
   "source": [
    "# INPUT FUNCTION"
   ]
  },
  {
   "cell_type": "code",
   "execution_count": 12,
   "id": "7931f41e",
   "metadata": {},
   "outputs": [
    {
     "name": "stdout",
     "output_type": "stream",
     "text": [
      "Enter your name:78\n"
     ]
    }
   ],
   "source": [
    "name = input('Enter your name:')"
   ]
  },
  {
   "cell_type": "code",
   "execution_count": 13,
   "id": "fc1b3661",
   "metadata": {},
   "outputs": [
    {
     "name": "stdout",
     "output_type": "stream",
     "text": [
      "78\n"
     ]
    }
   ],
   "source": [
    "print(name)"
   ]
  },
  {
   "cell_type": "code",
   "execution_count": 14,
   "id": "8bb8d151",
   "metadata": {},
   "outputs": [
    {
     "name": "stdout",
     "output_type": "stream",
     "text": [
      "<class 'str'>\n"
     ]
    }
   ],
   "source": [
    "print(type(name))"
   ]
  },
  {
   "cell_type": "code",
   "execution_count": 20,
   "id": "625cf84a",
   "metadata": {},
   "outputs": [
    {
     "name": "stdout",
     "output_type": "stream",
     "text": [
      "Enter your age:14\n"
     ]
    }
   ],
   "source": [
    "age = float(input('Enter your age:'))"
   ]
  },
  {
   "cell_type": "markdown",
   "id": "f7804d16",
   "metadata": {},
   "source": [
    "# OPERATORS"
   ]
  },
  {
   "cell_type": "markdown",
   "id": "ffe9e2ba",
   "metadata": {},
   "source": [
    "## ARITHEMETIC OPERATORS [+,-,/,*,%, //,**]\n",
    "### + : ADDITION\n",
    "### - : SUBTRACTION\n",
    "### / : DIVISION\n",
    "### * : MULTIPLICATION\n",
    "### % : MODULUS[TO GET THE REMAINDER]\n",
    "### // : INTEGER DIVISION [TO GET THE INTEGER OUTCOME WITHOUT THE REMAINDER]\n",
    "### ** : EXPONENTIAL [RAISE TO POWER]"
   ]
  },
  {
   "cell_type": "code",
   "execution_count": 21,
   "id": "9c11fe73",
   "metadata": {},
   "outputs": [
    {
     "name": "stdout",
     "output_type": "stream",
     "text": [
      "PROVIDE THE FIRST NUMBER:45\n",
      "PROVIDE THE SECOND NUMBERS:4\n",
      "45 + 4 = 49\n",
      "45 - 4 = 41\n",
      "45 / 4 = 11.25\n",
      "45 * 4 = 180\n",
      "45 % 4 = 1\n",
      "45 // 4 = 11\n",
      "45 ** 4 = 4100625\n"
     ]
    }
   ],
   "source": [
    "firstnumber = int(input('PROVIDE THE FIRST NUMBER:'))\n",
    "secondnumber = int(input('PROVIDE THE SECOND NUMBERS:'))\n",
    "print(f'{firstnumber} + {secondnumber} = {firstnumber + secondnumber}')\n",
    "print(f'{firstnumber} - {secondnumber} = {firstnumber - secondnumber}')\n",
    "print(f'{firstnumber} / {secondnumber} = {firstnumber / secondnumber}')\n",
    "print(f'{firstnumber} * {secondnumber} = {firstnumber * secondnumber}')\n",
    "print(f'{firstnumber} % {secondnumber} = {firstnumber % secondnumber}')\n",
    "print(f'{firstnumber} // {secondnumber} = {firstnumber // secondnumber}')\n",
    "print(f'{firstnumber} ** {secondnumber} = {firstnumber ** secondnumber}')"
   ]
  },
  {
   "cell_type": "code",
   "execution_count": null,
   "id": "b51de27d",
   "metadata": {},
   "outputs": [],
   "source": [
    "## COMPARISON OPERATORS [>,<,>=,<=,==, !=]\n",
    "### > : GREATER THAN\n",
    "### < : LESS THAN\n",
    "### >= : GREATER THAN OR EQUAL TO\n",
    "### <= : LESS THAN OR EQUAL TO\n",
    "### == : EQUAL TO\n",
    "### != : NOT EQUAL TO"
   ]
  },
  {
   "cell_type": "code",
   "execution_count": 22,
   "id": "a2846f1c",
   "metadata": {},
   "outputs": [
    {
     "name": "stdout",
     "output_type": "stream",
     "text": [
      "PROVIDE THE FIRST NUMBER:20\n",
      "PROVIDE THE SECOND NUMBERS:25\n",
      "20 > 25 = False\n",
      "20 < 25 = True\n",
      "20 >= 25 = False\n",
      "20 <= 25 = True\n",
      "20 == 25 = False\n",
      "20 != 25 = True\n"
     ]
    }
   ],
   "source": [
    "firstnumber = int(input('PROVIDE THE FIRST NUMBER:'))\n",
    "secondnumber = int(input('PROVIDE THE SECOND NUMBERS:'))\n",
    "print(f'{firstnumber} > {secondnumber} = {firstnumber > secondnumber}')\n",
    "print(f'{firstnumber} < {secondnumber} = {firstnumber < secondnumber}')\n",
    "print(f'{firstnumber} >= {secondnumber} = {firstnumber >= secondnumber}')\n",
    "print(f'{firstnumber} <= {secondnumber} = {firstnumber <= secondnumber}')\n",
    "print(f'{firstnumber} == {secondnumber} = {firstnumber == secondnumber}')\n",
    "print(f'{firstnumber} != {secondnumber} = {firstnumber != secondnumber}')"
   ]
  },
  {
   "cell_type": "code",
   "execution_count": 23,
   "id": "01cd1e18",
   "metadata": {},
   "outputs": [],
   "source": [
    "## LOGICAL OPERATORS [and, or , not]\n",
    "### and : all condtions must be true\n",
    "### or : atleast one of the condition must be true\n",
    "### not :  to check if a condtion is true"
   ]
  },
  {
   "cell_type": "code",
   "execution_count": 24,
   "id": "1274ed54",
   "metadata": {},
   "outputs": [
    {
     "name": "stdout",
     "output_type": "stream",
     "text": [
      "False\n",
      "True\n",
      "False\n"
     ]
    }
   ],
   "source": [
    "print(firstnumber > secondnumber and secondnumber != firstnumber)\n",
    "print(firstnumber > secondnumber or secondnumber != firstnumber)\n",
    "print(not firstnumber)"
   ]
  },
  {
   "cell_type": "code",
   "execution_count": 25,
   "id": "f2e839e5",
   "metadata": {},
   "outputs": [],
   "source": [
    "## IDENTITY OPERATORS [is, is not] to check if an expression is true or\n",
    "## false"
   ]
  },
  {
   "cell_type": "code",
   "execution_count": 26,
   "id": "8cf67db7",
   "metadata": {},
   "outputs": [
    {
     "name": "stdout",
     "output_type": "stream",
     "text": [
      "False\n",
      "True\n"
     ]
    }
   ],
   "source": [
    "print(firstnumber is secondnumber)\n",
    "print(firstnumber is not secondnumber)"
   ]
  },
  {
   "cell_type": "code",
   "execution_count": 27,
   "id": "230ffa46",
   "metadata": {},
   "outputs": [],
   "source": [
    "### MEMBERSHIP OPERATORS [in, not in] to check if a value exists\n"
   ]
  },
  {
   "cell_type": "code",
   "execution_count": 28,
   "id": "79ec8ca3",
   "metadata": {},
   "outputs": [
    {
     "name": "stdout",
     "output_type": "stream",
     "text": [
      "True\n",
      "True\n"
     ]
    }
   ],
   "source": [
    "word = 'school'\n",
    "print('sch' in word)\n",
    "print('sCh' not in word)"
   ]
  },
  {
   "cell_type": "markdown",
   "id": "cbd65395",
   "metadata": {},
   "source": [
    "# A car rental company charges a base rate of $50 per day plus $0.20 per mile driven. Write a program that asks the user for the number of days the car was rented and the number of miles driven, and then calculates and displays the total cost."
   ]
  },
  {
   "cell_type": "code",
   "execution_count": 30,
   "id": "fc10e92d",
   "metadata": {},
   "outputs": [
    {
     "name": "stdout",
     "output_type": "stream",
     "text": [
      "Enter numbers of day:60\n",
      "Enter numbers of miles driven150\n",
      "you will be charged $3030.0 for 60 days and 150.0 mile driven\n"
     ]
    }
   ],
   "source": [
    "perdayrate = 50\n",
    "permilerate = 0.2\n",
    "numbersofday = int(input('Enter numbers of day:'))\n",
    "numberofmile = float(input('Enter numbers of miles driven'))\n",
    "totalcost = (perdayrate * numbersofday) + (permilerate * numberofmile)\n",
    "print(f'you will be charged ${totalcost} for {numbersofday} days and {numberofmile} mile driven')"
   ]
  },
  {
   "cell_type": "code",
   "execution_count": null,
   "id": "e74b9c76",
   "metadata": {},
   "outputs": [],
   "source": []
  }
 ],
 "metadata": {
  "kernelspec": {
   "display_name": "Python 3 (ipykernel)",
   "language": "python",
   "name": "python3"
  },
  "language_info": {
   "codemirror_mode": {
    "name": "ipython",
    "version": 3
   },
   "file_extension": ".py",
   "mimetype": "text/x-python",
   "name": "python",
   "nbconvert_exporter": "python",
   "pygments_lexer": "ipython3",
   "version": "3.9.12"
  }
 },
 "nbformat": 4,
 "nbformat_minor": 5
}
