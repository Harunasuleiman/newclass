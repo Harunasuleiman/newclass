{
 "cells": [
  {
   "cell_type": "code",
   "execution_count": 3,
   "id": "6a9c0def",
   "metadata": {},
   "outputs": [
    {
     "name": "stdout",
     "output_type": "stream",
     "text": [
      "Enter your password  to performe operation:1212\n",
      "Operation [deposit, transfer,utilities,balance,logout]deposit\n",
      "Enter Amount to Deposit:25000\n",
      "Transaction successful\n",
      "Enter your password  to performe another operation:1212\n",
      "Operation [deposit, transfer,utilities,balance,logout]balance\n",
      "Avaliable balance is 25000.0\n",
      "Enter your password  to performe another operation:1212\n",
      "Operation [deposit, transfer,utilities,balance,logout]logout\n",
      "loging out\n"
     ]
    }
   ],
   "source": [
    "class goodpoint:\n",
    "    def __init__(self):\n",
    "        self.balance = 0\n",
    "    \n",
    "    def deposit(self):\n",
    "        amount = float(input('Enter Amount to Deposit:'))\n",
    "        self.balance = self.balance + amount\n",
    "        print('Transaction successful')\n",
    "        \n",
    "    def transfer(self):\n",
    "        amount = float(input('Enter Amount to Transfer:'))\n",
    "        if amount > self.balance or self.balance <=0:\n",
    "            print('Insufficent funds')\n",
    "        else:\n",
    "            \n",
    "            destination_account = input('Enter Account Number:')\n",
    "            destination_bank = input('Enter Account Bank:')\n",
    "            self.balance = self.balance - amount\n",
    "            print('Transaction successful')\n",
    "\n",
    "    def utilities(self):\n",
    "        utilites_option = input('pick an utilites option [airtime, dstv/gotv,nepa,databundle]:')\n",
    "        amount = float(input('Enter Amount to recharge:'))\n",
    "        if utilites_option == 'airtime':\n",
    "            if amount > self.balance or self.balance <=0:\n",
    "                 print('Insufficent funds')\n",
    "            else:\n",
    "                phonenumber = input('Enter Phone Number:')\n",
    "                networkprovide = input('Enter Network Provider:')\n",
    "                self.balance = self.balance - amount\n",
    "                print('Transaction successful')\n",
    "        elif utilites_option == 'dstv/gotv':\n",
    "            if amount > self.balance or self.balance <=0:\n",
    "                 print('Insufficent funds')\n",
    "            else:\n",
    "                cardnumber = input('Enter card Number:')\n",
    "                packageprovider = input('Enter package Provider:')\n",
    "                subpackage = input('Enter Sub package:')\n",
    "                self.balance = self.balance - amount\n",
    "                print('Transaction successful')\n",
    "        elif utilites_option == 'nepa':\n",
    "            if amount > self.balance or self.balance <=0:\n",
    "                 print('Insufficent funds')\n",
    "            else:\n",
    "                meternumber = input('Enter meter Number:')\n",
    "                self.balance = self.balance - amount\n",
    "                print('Transaction successful')\n",
    "        elif utilites_option == 'data':\n",
    "            if amount > self.balance or self.balance <=0:\n",
    "                 print('Insufficent funds')\n",
    "            else:\n",
    "                phonenumber = input('Enter Phone Number:')\n",
    "                networkprovide = input('Enter Network Provider:')\n",
    "                self.balance = self.balance - amount\n",
    "                print('Transaction successful')\n",
    "    def checkbalance(self):\n",
    "        print(f'Avaliable balance is {self.balance}')\n",
    "customer1 = goodpoint()\n",
    "list1 = [2222,5458,9696,1993,1212,3600]\n",
    "counter = 0\n",
    "password = int(input('Enter your password  to performe operation:'))\n",
    "while password in list1:\n",
    "    option = input('Operation [deposit, transfer,utilities,balance,logout]')\n",
    "    if option == 'deposit':\n",
    "        customer1.deposit()\n",
    "    elif option == 'transfer':\n",
    "        customer1.transfer()\n",
    "    elif option == 'utilities':\n",
    "        customer1.utilities()\n",
    "    elif option == 'balance':\n",
    "        customer1.checkbalance()\n",
    "    elif option == 'logout':\n",
    "        print('loging out')\n",
    "        break\n",
    "    password = int(input('Enter your password  to performe another operation:'))\n",
    "    counter +=1\n",
    "else:\n",
    "    print('Invalid password')"
   ]
  },
  {
   "cell_type": "code",
   "execution_count": 5,
   "id": "6e236096",
   "metadata": {},
   "outputs": [],
   "source": [
    "class simulation:\n",
    "    def __init__(self,brand,model,color,year,speed):\n",
    "        self.brand = brand\n",
    "        self.model = model\n",
    "        self.color = color\n",
    "        self.year = year\n",
    "        self.speed = speed\n",
    "        \n",
    "    def start(self):\n",
    "        print(f'{self.brand} {self.model} has started>>>>.......')\n",
    "        \n",
    "    def gear(self):\n",
    "        option = input('choose gear option[1,2,3,4,5,R]:')\n",
    "        if option == '1':\n",
    "            print('gear change to 1')\n",
    "        elif option == '2':\n",
    "            print('gear change to 2')\n",
    "        elif option == '3':\n",
    "            print('gear changed to 3')\n",
    "        elif option =='4':\n",
    "            print('gear change to 4')\n",
    "        elif option == '5':\n",
    "            print('gear change to 5')\n",
    "        elif option == 'R':\n",
    "            print('gear placed on reverse')\n",
    "            \n",
    "    def stop(self):\n",
    "        print(f'{self.brand} {self.model} has stopped GAME OVER>>>>.......')\n",
    "        \n",
    "car1 = simulation('Audi','A5','Black',2019,350)"
   ]
  },
  {
   "cell_type": "code",
   "execution_count": 6,
   "id": "aaac49c8",
   "metadata": {},
   "outputs": [
    {
     "name": "stdout",
     "output_type": "stream",
     "text": [
      "Audi A5 has started>>>>.......\n"
     ]
    }
   ],
   "source": [
    "car1.start()"
   ]
  },
  {
   "cell_type": "code",
   "execution_count": 17,
   "id": "254a02d2",
   "metadata": {},
   "outputs": [],
   "source": [
    "class secondsimulation(simulation):\n",
    "    def accelerate(self):\n",
    "        option == int(input('Enter nitro option:'))\n",
    "        if option == 1:\n",
    "            print('nitro engaged')\n",
    "        elif option == 2:\n",
    "            print('nitro disengaged')\n",
    "            \n",
    "car2 = secondsimulation('Ferrari','Bogos','Yellow',2022,500)"
   ]
  },
  {
   "cell_type": "code",
   "execution_count": 18,
   "id": "59c85506",
   "metadata": {},
   "outputs": [
    {
     "name": "stdout",
     "output_type": "stream",
     "text": [
      "Ferrari Bogos has started>>>>.......\n"
     ]
    }
   ],
   "source": [
    "car2.start()"
   ]
  },
  {
   "cell_type": "code",
   "execution_count": 19,
   "id": "bf89f944",
   "metadata": {},
   "outputs": [
    {
     "name": "stdout",
     "output_type": "stream",
     "text": [
      "Enter nitro option:1\n"
     ]
    }
   ],
   "source": [
    "car2.accelerate()"
   ]
  },
  {
   "cell_type": "markdown",
   "id": "e8a9aa4c",
   "metadata": {},
   "source": [
    "# FILE HANDLING"
   ]
  },
  {
   "cell_type": "code",
   "execution_count": 24,
   "id": "42ee98ec",
   "metadata": {},
   "outputs": [],
   "source": [
    "file = open('day1.doc','w')\n",
    "file.write('print(5+8)')\n",
    "file.close()"
   ]
  },
  {
   "cell_type": "code",
   "execution_count": 25,
   "id": "c51411f2",
   "metadata": {},
   "outputs": [
    {
     "name": "stdout",
     "output_type": "stream",
     "text": [
      "print(5+8)\n"
     ]
    }
   ],
   "source": [
    "file = open('day1.doc','r')\n",
    "print(file.read())\n",
    "file.close()"
   ]
  },
  {
   "cell_type": "code",
   "execution_count": 26,
   "id": "c2ea1f12",
   "metadata": {},
   "outputs": [],
   "source": [
    "file = open('day1.doc','a')\n",
    "file.write('''\\nnum1 = 41\n",
    "num2 = 21\n",
    "print(num1/num2)\n",
    "''')\n",
    "file.close()"
   ]
  },
  {
   "cell_type": "code",
   "execution_count": 27,
   "id": "b9740d54",
   "metadata": {},
   "outputs": [
    {
     "name": "stdout",
     "output_type": "stream",
     "text": [
      "print(5+8)num1 = 41\n",
      "num2 = 21\n",
      "print(num1/num2)\n",
      "\n"
     ]
    }
   ],
   "source": [
    "file = open('day1.doc','r')\n",
    "print(file.read())\n",
    "file.close()"
   ]
  },
  {
   "cell_type": "code",
   "execution_count": 28,
   "id": "dad48260",
   "metadata": {},
   "outputs": [
    {
     "name": "stdout",
     "output_type": "stream",
     "text": [
      "print(5+8)num1 = 41\n",
      "num2 = 21\n",
      "print(num1/num2)\n",
      "\n"
     ]
    }
   ],
   "source": [
    "file = open('day1.doc','r+')\n",
    "print(file.read())\n",
    "file.write('''age1 = int(input('Enter your age:'))\n",
    "age12= int(input('Enter your age:'))\n",
    "if age1 > age12:\n",
    "    print('age 1 is the oldest')\n",
    "else:\n",
    "    print('age2 is the oldest')\n",
    "''')\n",
    "file.close()"
   ]
  },
  {
   "cell_type": "code",
   "execution_count": 29,
   "id": "0bd883c3",
   "metadata": {},
   "outputs": [
    {
     "name": "stdout",
     "output_type": "stream",
     "text": [
      "print(5+8)num1 = 41\n",
      "num2 = 21\n",
      "print(num1/num2)\n",
      "age1 = int(input('Enter your age:'))\n",
      "age12= int(input('Enter your age:'))\n",
      "if age1 > age12:\n",
      "    print('age 1 is the oldest')\n",
      "else:\n",
      "    print('age2 is the oldest')\n",
      "\n"
     ]
    }
   ],
   "source": [
    "file = open('day1.doc','r')\n",
    "print(file.read())\n",
    "file.close()"
   ]
  },
  {
   "cell_type": "code",
   "execution_count": null,
   "id": "5c6c20ba",
   "metadata": {},
   "outputs": [],
   "source": []
  }
 ],
 "metadata": {
  "kernelspec": {
   "display_name": "Python 3 (ipykernel)",
   "language": "python",
   "name": "python3"
  },
  "language_info": {
   "codemirror_mode": {
    "name": "ipython",
    "version": 3
   },
   "file_extension": ".py",
   "mimetype": "text/x-python",
   "name": "python",
   "nbconvert_exporter": "python",
   "pygments_lexer": "ipython3",
   "version": "3.9.12"
  }
 },
 "nbformat": 4,
 "nbformat_minor": 5
}
