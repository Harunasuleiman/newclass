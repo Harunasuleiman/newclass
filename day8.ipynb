{
 "cells": [
  {
   "cell_type": "code",
   "execution_count": 2,
   "id": "57d928c8",
   "metadata": {},
   "outputs": [],
   "source": [
    "class person:\n",
    "    name = 'Ade'\n",
    "    age = 54\n",
    "firstperson =person()"
   ]
  },
  {
   "cell_type": "code",
   "execution_count": 3,
   "id": "50a3dcee",
   "metadata": {},
   "outputs": [
    {
     "data": {
      "text/plain": [
       "'Ade'"
      ]
     },
     "execution_count": 3,
     "metadata": {},
     "output_type": "execute_result"
    }
   ],
   "source": [
    "firstperson.name"
   ]
  },
  {
   "cell_type": "code",
   "execution_count": 4,
   "id": "effe7cdc",
   "metadata": {},
   "outputs": [
    {
     "data": {
      "text/plain": [
       "54"
      ]
     },
     "execution_count": 4,
     "metadata": {},
     "output_type": "execute_result"
    }
   ],
   "source": [
    "firstperson.age"
   ]
  },
  {
   "cell_type": "code",
   "execution_count": 10,
   "id": "3551931c",
   "metadata": {},
   "outputs": [],
   "source": [
    "class person:\n",
    "    name = 'Ade'\n",
    "    age = 54\n",
    "    \n",
    "    def talk(self):\n",
    "        print(f'{self.name} can talk')\n",
    "    def calculatedateofbirth(self):\n",
    "        date = 2023-self.age\n",
    "        print(f'{self.name} birth year is {date}')\n",
    "firstperson =person()"
   ]
  },
  {
   "cell_type": "code",
   "execution_count": 11,
   "id": "ce083135",
   "metadata": {},
   "outputs": [
    {
     "name": "stdout",
     "output_type": "stream",
     "text": [
      "Ade can talk\n"
     ]
    }
   ],
   "source": [
    "firstperson.talk()"
   ]
  },
  {
   "cell_type": "code",
   "execution_count": 12,
   "id": "611517e0",
   "metadata": {},
   "outputs": [
    {
     "name": "stdout",
     "output_type": "stream",
     "text": [
      "Ade birth year is 1969\n"
     ]
    }
   ],
   "source": [
    "firstperson.calculatedateofbirth()"
   ]
  },
  {
   "cell_type": "markdown",
   "id": "b440d8cd",
   "metadata": {},
   "source": [
    "# WRITE A MINI ONLINE BANK APP TO DO THE FOLLOWING DEPOSITE,TRANSFER,UTILITIES RECHARGE"
   ]
  },
  {
   "cell_type": "code",
   "execution_count": 20,
   "id": "621bf7fb",
   "metadata": {},
   "outputs": [],
   "source": [
    "class goodpoint:\n",
    "    def __init__(self):\n",
    "        self.balance = 0\n",
    "    \n",
    "    def deposit(self):\n",
    "        amount = float(input('Enter Amount to Deposit:'))\n",
    "        self.balance = self.balance + amount\n",
    "        print('Transaction successful')\n",
    "        \n",
    "    def transfer(self):\n",
    "        amount = float(input('Enter Amount to Transfer:'))\n",
    "        if amount > self.balance or self.balance <=0:\n",
    "            print('Insufficent funds')\n",
    "        else:\n",
    "            \n",
    "            destination_account = input('Enter Account Number:')\n",
    "            destination_bank = input('Enter Account Bank:')\n",
    "            self.balance = self.balance - amount\n",
    "            print('Transaction successful')\n",
    "\n",
    "    def utilities(self):\n",
    "        utilites_option = input('pick an utilites option [airtime, dstv/gotv,nepa,databundle]:')\n",
    "        amount = float(input('Enter Amount to recharge:'))\n",
    "        if utilites_option == 'airtime':\n",
    "            if amount > self.balance or self.balance <=0:\n",
    "                 print('Insufficent funds')\n",
    "            else:\n",
    "                phonenumber = input('Enter Phone Number:')\n",
    "                networkprovide = input('Enter Network Provider:')\n",
    "                self.balance = self.balance - amount\n",
    "                print('Transaction successful')\n",
    "        elif utilites_option == 'dstv/gotv':\n",
    "            if amount > self.balance or self.balance <=0:\n",
    "                 print('Insufficent funds')\n",
    "            else:\n",
    "                cardnumber = input('Enter card Number:')\n",
    "                packageprovider = input('Enter package Provider:')\n",
    "                subpackage = input('Enter Sub package:')\n",
    "                self.balance = self.balance - amount\n",
    "                print('Transaction successful')\n",
    "        elif utilites_option == 'nepa':\n",
    "            if amount > self.balance or self.balance <=0:\n",
    "                 print('Insufficent funds')\n",
    "            else:\n",
    "                meternumber = input('Enter meter Number:')\n",
    "                self.balance = self.balance - amount\n",
    "                print('Transaction successful')\n",
    "        elif utilites_option == 'data':\n",
    "            if amount > self.balance or self.balance <=0:\n",
    "                 print('Insufficent funds')\n",
    "            else:\n",
    "                phonenumber = input('Enter Phone Number:')\n",
    "                networkprovide = input('Enter Network Provider:')\n",
    "                self.balance = self.balance - amount\n",
    "                print('Transaction successful')\n",
    "    def checkbalance(self):\n",
    "        print(f'Avaliable balance is {self.balance}')\n",
    "customer1 = goodpoint()"
   ]
  },
  {
   "cell_type": "code",
   "execution_count": 21,
   "id": "6dacaba7",
   "metadata": {},
   "outputs": [
    {
     "name": "stdout",
     "output_type": "stream",
     "text": [
      "Enter Amount to Deposit:25000\n",
      "Transaction successful\n"
     ]
    }
   ],
   "source": [
    "customer1.deposit()"
   ]
  },
  {
   "cell_type": "code",
   "execution_count": 22,
   "id": "230a49d9",
   "metadata": {},
   "outputs": [
    {
     "name": "stdout",
     "output_type": "stream",
     "text": [
      "Avaliable balance is 25000.0\n"
     ]
    }
   ],
   "source": [
    "customer1.checkbalance()"
   ]
  },
  {
   "cell_type": "code",
   "execution_count": 23,
   "id": "d4114d35",
   "metadata": {},
   "outputs": [
    {
     "name": "stdout",
     "output_type": "stream",
     "text": [
      "pick an utilites option [airtime, dstv/gotv,nepa,databundle]:data\n",
      "Enter Amount to recharge:5000\n",
      "Enter Phone Number:MTN\n",
      "Enter Network Provider:MTN\n",
      "Transaction successful\n"
     ]
    }
   ],
   "source": [
    "customer1.utilities()"
   ]
  },
  {
   "cell_type": "code",
   "execution_count": null,
   "id": "84e2fadf",
   "metadata": {},
   "outputs": [],
   "source": []
  }
 ],
 "metadata": {
  "kernelspec": {
   "display_name": "Python 3 (ipykernel)",
   "language": "python",
   "name": "python3"
  },
  "language_info": {
   "codemirror_mode": {
    "name": "ipython",
    "version": 3
   },
   "file_extension": ".py",
   "mimetype": "text/x-python",
   "name": "python",
   "nbconvert_exporter": "python",
   "pygments_lexer": "ipython3",
   "version": "3.9.12"
  }
 },
 "nbformat": 4,
 "nbformat_minor": 5
}
