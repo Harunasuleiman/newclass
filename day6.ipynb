{
 "cells": [
  {
   "cell_type": "markdown",
   "metadata": {},
   "source": [
    "# while loop"
   ]
  },
  {
   "cell_type": "markdown",
   "metadata": {},
   "source": [
    "# How can a shipping company use a while loop to repeatedly attempt delivery of a package until it is successfully delivered, using real-time location data to track the package's progress?"
   ]
  },
  {
   "cell_type": "code",
   "execution_count": 1,
   "metadata": {},
   "outputs": [
    {
     "name": "stdout",
     "output_type": "stream",
     "text": [
      "Delivery attempt: 1\n",
      "Enter delivery option [True/False]False\n",
      "Delivery Faild. Retrying..........\n",
      "Delivery attempt: 2\n",
      "Enter delivery option [True/False]True\n",
      "Delivery successful!!!!!\n"
     ]
    }
   ],
   "source": [
    "delivery_successful = False\n",
    "attempt_count = 0\n",
    "while not delivery_successful:\n",
    "    attempt_count = attempt_count + 1\n",
    "    print(f'Delivery attempt: {attempt_count}')\n",
    "    delivery_successful_attempt = input('Enter delivery option [True/False]')\n",
    "    if delivery_successful_attempt == 'True':\n",
    "        print('Delivery successful!!!!!')\n",
    "        delivery_successful =True\n",
    "    else:\n",
    "        print('Delivery Faild. Retrying..........')"
   ]
  },
  {
   "cell_type": "code",
   "execution_count": 3,
   "metadata": {},
   "outputs": [
    {
     "name": "stdout",
     "output_type": "stream",
     "text": [
      "Provide your guess between 1 and 20:8\n",
      "Guess is low\n",
      "Provide your guess between 1 and 20:15\n",
      "Guess is high\n",
      "Provide your guess between 1 and 20:11\n",
      "Guess is high\n",
      "Provide your guess between 1 and 20:9\n",
      "Congratulations guess is correct\n"
     ]
    }
   ],
   "source": [
    "import random\n",
    "limit = 5\n",
    "guesscount = 0\n",
    "number = random.randint(1,20)\n",
    "while guesscount < limit:\n",
    "    guess = int(input('Provide your guess between 1 and 20:'))\n",
    "    guesscount +=1\n",
    "    if guess == number:\n",
    "        print('Congratulations guess is correct')\n",
    "        break\n",
    "    elif guess < number:\n",
    "        print('Guess is low')\n",
    "    elif guess > number:\n",
    "        print('Guess is high')\n",
    "else:\n",
    "    print('Sorry you lost````````')"
   ]
  },
  {
   "cell_type": "markdown",
   "metadata": {},
   "source": [
    "# FUNCTIONS"
   ]
  },
  {
   "cell_type": "code",
   "execution_count": 6,
   "metadata": {},
   "outputs": [
    {
     "name": "stdout",
     "output_type": "stream",
     "text": [
      "Welcome to python class\n",
      "None\n"
     ]
    }
   ],
   "source": [
    "def greet():\n",
    "    print('Welcome to python class')\n",
    "print(greet())"
   ]
  },
  {
   "cell_type": "code",
   "execution_count": 7,
   "metadata": {},
   "outputs": [
    {
     "name": "stdout",
     "output_type": "stream",
     "text": [
      "Welcome to python class\n"
     ]
    }
   ],
   "source": [
    "greet()"
   ]
  },
  {
   "cell_type": "code",
   "execution_count": 8,
   "metadata": {},
   "outputs": [
    {
     "name": "stdout",
     "output_type": "stream",
     "text": [
      "Welcome to python class\n"
     ]
    }
   ],
   "source": [
    "greet()"
   ]
  },
  {
   "cell_type": "code",
   "execution_count": 10,
   "metadata": {},
   "outputs": [
    {
     "name": "stdout",
     "output_type": "stream",
     "text": [
      "Welcome to python class Job\n"
     ]
    }
   ],
   "source": [
    "def greet2(name):\n",
    "    print(f'Welcome to python class {name}')\n",
    "greet2('Job')"
   ]
  },
  {
   "cell_type": "code",
   "execution_count": 11,
   "metadata": {},
   "outputs": [
    {
     "name": "stdout",
     "output_type": "stream",
     "text": [
      "Welcome to python class Sam\n"
     ]
    }
   ],
   "source": [
    "greet2('Sam')"
   ]
  },
  {
   "cell_type": "code",
   "execution_count": 12,
   "metadata": {},
   "outputs": [
    {
     "name": "stdout",
     "output_type": "stream",
     "text": [
      "Welcome to python class Mary\n"
     ]
    }
   ],
   "source": [
    "greet2('Mary')"
   ]
  },
  {
   "cell_type": "code",
   "execution_count": 17,
   "metadata": {},
   "outputs": [
    {
     "name": "stdout",
     "output_type": "stream",
     "text": [
      "DETAILS\n",
      "NAME: Janet Akpan\n",
      "GENDER: Female\n",
      "STATE: Akwa-Ibom\n",
      "AGE: 25\n",
      "\n",
      "You are eligible to vote.\n"
     ]
    }
   ],
   "source": [
    "def vote(name,gender,state,age):\n",
    "    print(f'''DETAILS\n",
    "NAME: {name}\n",
    "GENDER: {gender}\n",
    "STATE: {state}\n",
    "AGE: {age}\n",
    "''')\n",
    "    if age >= 18:\n",
    "        print('You are eligible to vote.')\n",
    "    else:\n",
    "        print('Sorry you are not eligble to vote')\n",
    "vote('Janet Akpan','Female','Akwa-Ibom',25)"
   ]
  },
  {
   "cell_type": "code",
   "execution_count": 18,
   "metadata": {},
   "outputs": [
    {
     "name": "stdout",
     "output_type": "stream",
     "text": [
      "DETAILS\n",
      "NAME: Hope Akpan\n",
      "GENDER: Female\n",
      "STATE: Akwa-Ibom\n",
      "AGE: 12\n",
      "\n",
      "Sorry you are not eligble to vote\n"
     ]
    }
   ],
   "source": [
    "vote('Hope Akpan','Female','Akwa-Ibom',12)"
   ]
  },
  {
   "cell_type": "code",
   "execution_count": 19,
   "metadata": {},
   "outputs": [
    {
     "name": "stdout",
     "output_type": "stream",
     "text": [
      "DETAILS\n",
      "NAME: Janet Akpan\n",
      "GENDER: Female\n",
      "STATE: Akwa-Ibom\n",
      "AGE: 25\n",
      "\n",
      "You are eligible to vote.\n"
     ]
    }
   ],
   "source": [
    "def vote(name,gender,state,age=18):\n",
    "    print(f'''DETAILS\n",
    "NAME: {name}\n",
    "GENDER: {gender}\n",
    "STATE: {state}\n",
    "AGE: {age}\n",
    "''')\n",
    "    if age >= 18:\n",
    "        print('You are eligible to vote.')\n",
    "    else:\n",
    "        print('Sorry you are not eligble to vote')\n",
    "vote('Janet Akpan','Female','Akwa-Ibom',25)"
   ]
  },
  {
   "cell_type": "code",
   "execution_count": 20,
   "metadata": {},
   "outputs": [
    {
     "name": "stdout",
     "output_type": "stream",
     "text": [
      "DETAILS\n",
      "NAME: Janet Akpan\n",
      "GENDER: Female\n",
      "STATE: Akwa-Ibom\n",
      "AGE: 18\n",
      "\n",
      "You are eligible to vote.\n"
     ]
    }
   ],
   "source": [
    "vote('Janet Akpan','Female','Akwa-Ibom')"
   ]
  },
  {
   "cell_type": "markdown",
   "metadata": {},
   "source": [
    "# EXERCISE \n",
    "# How can a ride-sharing app use a function to calculate the estimated fare for a trip, based on the distance and time of day?"
   ]
  },
  {
   "cell_type": "code",
   "execution_count": null,
   "metadata": {},
   "outputs": [],
   "source": []
  }
 ],
 "metadata": {
  "kernelspec": {
   "display_name": "Python 3 (ipykernel)",
   "language": "python",
   "name": "python3"
  },
  "language_info": {
   "codemirror_mode": {
    "name": "ipython",
    "version": 3
   },
   "file_extension": ".py",
   "mimetype": "text/x-python",
   "name": "python",
   "nbconvert_exporter": "python",
   "pygments_lexer": "ipython3",
   "version": "3.9.12"
  }
 },
 "nbformat": 4,
 "nbformat_minor": 4
}
