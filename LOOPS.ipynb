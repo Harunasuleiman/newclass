{
 "cells": [
  {
   "cell_type": "markdown",
   "id": "7d8a7b5f",
   "metadata": {},
   "source": [
    "#LOOP"
   ]
  },
  {
   "cell_type": "code",
   "execution_count": 1,
   "id": "dbd0210f",
   "metadata": {},
   "outputs": [],
   "source": [
    "## FOR LOOP"
   ]
  },
  {
   "cell_type": "code",
   "execution_count": 3,
   "id": "3ded18d0",
   "metadata": {
    "scrolled": true
   },
   "outputs": [
    {
     "name": "stdout",
     "output_type": "stream",
     "text": [
      "PPP\n",
      "HHH\n",
      "YYY\n",
      "TTT\n",
      "OOO\n",
      "NNN\n"
     ]
    }
   ],
   "source": [
    "word = 'PHYTON'\n",
    "for char in word:\n",
    "    print (char * 3)"
   ]
  },
  {
   "cell_type": "code",
   "execution_count": 4,
   "id": "372663eb",
   "metadata": {
    "scrolled": true
   },
   "outputs": [
    {
     "name": "stdout",
     "output_type": "stream",
     "text": [
      "ppp hhh yyy ttt ooo nnn "
     ]
    }
   ],
   "source": [
    "word = 'phyton'\n",
    "for char in word:\n",
    "    print (char * 3, end = ' ')"
   ]
  },
  {
   "cell_type": "markdown",
   "id": "88d240fb",
   "metadata": {},
   "source": [
    "in a school, how can you  use a for loop to iterate over a list of students and perform a specific action for each student, such as printing out thier grades or generating a report card?\n",
    "                    "
   ]
  },
  {
   "cell_type": "code",
   "execution_count": 24,
   "id": "e61f723a",
   "metadata": {},
   "outputs": [
    {
     "name": "stdout",
     "output_type": "stream",
     "text": [
      "please provide your id to check result005\n",
      "___________Stundent report card_________________\n",
      "Name:kunle aford\n",
      "English:95 \n",
      "Maths:65 \n",
      "Physics:70 \n",
      "Chemistry:85 \n",
      "Average:78.75\n",
      "    \n"
     ]
    }
   ],
   "source": [
    "student_records = {'001':{'Name':'sam jones', 'English':85, 'Maths':75, 'Chemistry':70, 'physics':78},\n",
    "                    '002':{'Name':'Mry lawal', 'English':90, 'Maths':75, 'Chemistry':52, 'physics':88},\n",
    "                    '003':{'Name':'sam okoro samson', 'English':95, 'Maths':65, 'Chemistry':70, 'physics':45},\n",
    "                    '004':{'Name':'favour agben', 'English':85, 'Maths':75, 'Chemistry':70, 'physics':78},\n",
    "                    '005':{'Name':'kunle aford', 'English':95, 'Maths':65, 'Chemistry':85, 'physics':70}}\n",
    "student = input('please provide your id to check result')\n",
    "for key in student_records:\n",
    "    if key == student:\n",
    "        print (f'''___________Stundent report card_________________\n",
    "Name:{student_records[key]['Name']}\n",
    "English:{student_records[key]['English']} \n",
    "Maths:{student_records[key]['Maths']} \n",
    "Physics:{student_records[key]['physics']} \n",
    "Chemistry:{student_records[key]['Chemistry']} \n",
    "Average:{(student_records[key]['English'] + student_records[key]['Maths'] + student_records[key]['physics'] +student_records[key]['Chemistry'])/4}\n",
    "    ''')\n",
    "        break\n",
    "else:\n",
    "         print('Record not found!!!!!')\n",
    "        \n",
    "                 "
   ]
  },
  {
   "cell_type": "code",
   "execution_count": null,
   "id": "2176fca8",
   "metadata": {},
   "outputs": [],
   "source": []
  },
  {
   "cell_type": "code",
   "execution_count": 5,
   "id": "ff08d60b",
   "metadata": {},
   "outputs": [
    {
     "name": "stdout",
     "output_type": "stream",
     "text": [
      "___________Stundent report card_________________\n",
      "Name:sam jones\n",
      "English:85 \n",
      "Maths:75 \n",
      "Physics:78 \n",
      "Chemistry:70 \n",
      "Average:77.0\n",
      "    \n",
      "___________Stundent report card_________________\n",
      "Name:Mry lawal\n",
      "English:90 \n",
      "Maths:75 \n",
      "Physics:88 \n",
      "Chemistry:52 \n",
      "Average:76.25\n",
      "    \n",
      "___________Stundent report card_________________\n",
      "Name:sam okoro samson\n",
      "English:95 \n",
      "Maths:65 \n",
      "Physics:45 \n",
      "Chemistry:70 \n",
      "Average:68.75\n",
      "    \n",
      "___________Stundent report card_________________\n",
      "Name:favour agben\n",
      "English:85 \n",
      "Maths:75 \n",
      "Physics:78 \n",
      "Chemistry:70 \n",
      "Average:77.0\n",
      "    \n",
      "___________Stundent report card_________________\n",
      "Name:kunle aford\n",
      "English:95 \n",
      "Maths:65 \n",
      "Physics:70 \n",
      "Chemistry:85 \n",
      "Average:78.75\n",
      "    \n"
     ]
    }
   ],
   "source": [
    "student_records = {'001':{'Name':'sam jones', 'English':85, 'Maths':75, 'Chemistry':70, 'physics':78},\n",
    "                    '002':{'Name':'Mry lawal', 'English':90, 'Maths':75, 'Chemistry':52, 'physics':88},\n",
    "                    '003':{'Name':'sam okoro samson', 'English':95, 'Maths':65, 'Chemistry':70, 'physics':45},\n",
    "                    '004':{'Name':'favour agben', 'English':85, 'Maths':75, 'Chemistry':70, 'physics':78},\n",
    "                    '005':{'Name':'kunle aford', 'English':95, 'Maths':65, 'Chemistry':85, 'physics':70}}\n",
    "\n",
    "for key in student_records:\n",
    "\n",
    "        print (f'''___________Stundent report card_________________\n",
    "Name:{student_records[key]['Name']}\n",
    "English:{student_records[key]['English']} \n",
    "Maths:{student_records[key]['Maths']} \n",
    "Physics:{student_records[key]['physics']} \n",
    "Chemistry:{student_records[key]['Chemistry']} \n",
    "Average:{(student_records[key]['English'] + student_records[key]['Maths'] + student_records[key]['physics'] +student_records[key]['Chemistry'])/4}\n",
    "    ''')"
   ]
  },
  {
   "cell_type": "markdown",
   "id": "833e8b30",
   "metadata": {},
   "source": [
    "In a bank, how can you use a for loop to iterate over a list of customer trasactions and perform a specific action for transaction,such as calculation interest or updating account "
   ]
  },
  {
   "cell_type": "code",
   "execution_count": 19,
   "id": "54c6f450",
   "metadata": {},
   "outputs": [
    {
     "name": "stdout",
     "output_type": "stream",
     "text": [
      "________custormers_interest______________\n",
      "Name:sam jones\n",
      "amount:5000\n",
      "years:4\n",
      "interest:5\n",
      "Average:1669.6666666666667\n",
      "          \n",
      "________custormers_interest______________\n",
      "Name:kunle afod\n",
      "amount:9000\n",
      "years:6\n",
      "interest:10\n",
      "Average:3005.3333333333335\n",
      "          \n",
      "________custormers_interest______________\n",
      "Name:favour agben\n",
      "amount:10000\n",
      "years:8\n",
      "interest:7\n",
      "Average:3338.3333333333335\n",
      "          \n",
      "________custormers_interest______________\n",
      "Name:mary lawal\n",
      "amount:12000\n",
      "years:2\n",
      "interest:8\n",
      "Average:4003.3333333333335\n",
      "          \n",
      "________custormers_interest______________\n",
      "Name:okoro samson\n",
      "amount:7000\n",
      "years:6\n",
      "interest:5\n",
      "Average:2337.0\n",
      "          \n"
     ]
    }
   ],
   "source": [
    "customers_interest =  {'001':{'Name':'sam jones', 'amount':5000, 'years':4,  'interest':5},\n",
    "                      '002':{'Name':'kunle afod', 'amount':9000, 'years':6,  'interest':10},\n",
    "                      '003':{'Name':'favour agben', 'amount':10000, 'years':8,  'interest':7},\n",
    "                      '004':{'Name':'mary lawal', 'amount':12000, 'years':2,  'interest':8},\n",
    "                      '005':{'Name':'okoro samson', 'amount':7000, 'years':6,  'interest':5}}\n",
    "\n",
    "for key in customers_interest:                    \n",
    "          print (f'''________custormers_interest______________\n",
    "Name:{customers_interest[key]['Name']}\n",
    "amount:{customers_interest[key]['amount']}\n",
    "years:{customers_interest[key]['years']}\n",
    "interest:{customers_interest[key]['interest']}\n",
    "Average:{(customers_interest[key]['amount'] + customers_interest[key]['years'] + customers_interest[key]['interest'])/3}\n",
    "          ''')            "
   ]
  },
  {
   "cell_type": "code",
   "execution_count": 5,
   "id": "cd72115e",
   "metadata": {},
   "outputs": [
    {
     "name": "stdout",
     "output_type": "stream",
     "text": [
      "please provide your id to check result001\n",
      "________custormers_interest______________\n",
      "Name:sam jones\n",
      "amount:5000\n",
      "years:4\n",
      "interest:5\n",
      "Average:1669.6666666666667\n",
      "    \n"
     ]
    }
   ],
   "source": [
    "customers_interest =  {'001':{'Name':'sam jones', 'amount':5000, 'years':4,  'interest':5},\n",
    "                      '002':{'Name':'kunle afod', 'amount':9000, 'years':6,  'interest':10},\n",
    "                      '003':{'Name':'favour agben', 'amount':10000, 'years':8,  'interest':7},\n",
    "                      '004':{'Name':'mary lawal', 'amount':12000, 'years':2,  'interest':8},\n",
    "                      '005':{'Name':'okoro samson', 'amount':7000, 'years':6,  'interest':5}}\n",
    "customers = input('please provide your id to check result')\n",
    "for key in customers_interest:\n",
    "    if key == customers:\n",
    "        print (f'''________custormers_interest______________\n",
    "Name:{customers_interest[key]['Name']}\n",
    "amount:{customers_interest[key]['amount']}\n",
    "years:{customers_interest[key]['years']}\n",
    "interest:{customers_interest[key]['interest']}\n",
    "Average:{(customers_interest[key]['amount'] + customers_interest[key]['years'] + customers_interest[key]['interest'])/3}\n",
    "    ''')\n",
    "        break\n",
    "else:\n",
    "        print('Record not found!!!!')\n",
    "    "
   ]
  },
  {
   "cell_type": "code",
   "execution_count": null,
   "id": "f61c2e30",
   "metadata": {},
   "outputs": [],
   "source": []
  }
 ],
 "metadata": {
  "kernelspec": {
   "display_name": "Python 3 (ipykernel)",
   "language": "python",
   "name": "python3"
  },
  "language_info": {
   "codemirror_mode": {
    "name": "ipython",
    "version": 3
   },
   "file_extension": ".py",
   "mimetype": "text/x-python",
   "name": "python",
   "nbconvert_exporter": "python",
   "pygments_lexer": "ipython3",
   "version": "3.9.12"
  }
 },
 "nbformat": 4,
 "nbformat_minor": 5
}
