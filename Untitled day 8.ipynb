{
 "cells": [
  {
   "cell_type": "code",
   "execution_count": 2,
   "id": "983d143c",
   "metadata": {},
   "outputs": [],
   "source": [
    "class person:\n",
    "    name = 'Ade'\n",
    "    age = 54\n",
    "firstperson =person()\n"
   ]
  },
  {
   "cell_type": "code",
   "execution_count": 4,
   "id": "79908634",
   "metadata": {},
   "outputs": [
    {
     "data": {
      "text/plain": [
       "'Ade'"
      ]
     },
     "execution_count": 4,
     "metadata": {},
     "output_type": "execute_result"
    }
   ],
   "source": [
    "firstperson.name"
   ]
  },
  {
   "cell_type": "code",
   "execution_count": 5,
   "id": "d061fb37",
   "metadata": {},
   "outputs": [
    {
     "data": {
      "text/plain": [
       "54"
      ]
     },
     "execution_count": 5,
     "metadata": {},
     "output_type": "execute_result"
    }
   ],
   "source": [
    "firstperson.age"
   ]
  },
  {
   "cell_type": "code",
   "execution_count": 14,
   "id": "ee189a66",
   "metadata": {},
   "outputs": [],
   "source": [
    "class person:\n",
    "    name ='Ade'\n",
    "    age =54\n",
    "    def talk(self):\n",
    "        print(f' {self.name} can talk')\n",
    "    def calculatedateofbirth(self):\n",
    "            date = 2023-self.age\n",
    "            print(f'{self.name} birth year is {date}')\n",
    "firstperson =person()"
   ]
  },
  {
   "cell_type": "code",
   "execution_count": 15,
   "id": "05a7d836",
   "metadata": {},
   "outputs": [
    {
     "name": "stdout",
     "output_type": "stream",
     "text": [
      " Ade can talk\n"
     ]
    }
   ],
   "source": [
    "firstperson.talk()"
   ]
  },
  {
   "cell_type": "code",
   "execution_count": 16,
   "id": "42f07702",
   "metadata": {},
   "outputs": [
    {
     "name": "stdout",
     "output_type": "stream",
     "text": [
      "Ade birth year is 1969\n"
     ]
    }
   ],
   "source": [
    "firstperson.calculatedateofbirth()"
   ]
  },
  {
   "cell_type": "code",
   "execution_count": 30,
   "id": "8a6db3e6",
   "metadata": {},
   "outputs": [],
   "source": [
    "class goodpoint:\n",
    "    def __init__(self):\n",
    "        self.balance=0\n",
    "        \n",
    "    def deposite(self):\n",
    "        amount=float(input('Enter Amount to Deposite:'))\n",
    "        self.balance=self.balance+amount\n",
    "        print('Transaction successful')\n",
    "        \n",
    "        \n",
    "    def transfer(self):\n",
    "        amount = float(input('Enter Amount to Transfer:'))\n",
    "        if amount > self.balance or self.balance <=0:\n",
    "            print('Insufficent funds')\n",
    "        else:\n",
    "            \n",
    "            destination_account = input ('Enter Account Number:')\n",
    "            destination_bank = input ('Enter Account Bank:')\n",
    "            self.balance =self.balance  - amount\n",
    "            print('Trensaction successful')\n",
    "            \n",
    "            \n",
    "    def utilites(self):\n",
    "        utilities_option=input('pick an utilities option [airtime, dstv/gotv, nepa, databoundles]:')\n",
    "        amount = float(input('Enter Amount to recharge:'))\n",
    "        if utilities_option =='airtime':\n",
    "            if amount >self.balance or self.balance <=0:\n",
    "                print ('Insufficent funds')\n",
    "            else:\n",
    "                phonenumber=input ('Enter phone number:')\n",
    "                networkprovider =input('Enter network provider:')\n",
    "                self.balance =self.balance -amount\n",
    "                print('Transaction successful')\n",
    "        elif utilities_option=='dstv/gotv':\n",
    "            if amount >self.balance or self.balance <=0:\n",
    "                print('Insufficent funds')\n",
    "            else:\n",
    "                cardnumber =input ('Enter cardnumber:')\n",
    "                packageprovider = input('Enter packageprovider:')\n",
    "                self.balance = self.balance - amount\n",
    "                print('Transaction successful')\n",
    "        elif utilities_option=='nepa':\n",
    "            if amount > self.balance or self.balance <=0:\n",
    "                 print('Insufficent funds')\n",
    "            else:\n",
    "                meternumber =input('Enter meter Number:')\n",
    "                self.balance =self.balance -amount\n",
    "                print('Transaction successful')\n",
    "        elif utilities_option=='data':\n",
    "            if amount > self.balance or self.balance <=0:\n",
    "                print('Insufficent funds')\n",
    "            else:\n",
    "                phonenumber= input('Enter phone Number:')\n",
    "                networkprovider =input('Enter Network provider:')\n",
    "                self.balance = self.balance - amount\n",
    "                print ('Transaction successful')\n",
    "    def checkbalance(self):\n",
    "        print(f' Available balance is {self.balance}')\n",
    "customer1 = goodpoint()\n",
    "        "
   ]
  },
  {
   "cell_type": "code",
   "execution_count": 32,
   "id": "ed162246",
   "metadata": {},
   "outputs": [
    {
     "name": "stdout",
     "output_type": "stream",
     "text": [
      "Enter Amount to Deposite:6000\n",
      "Transaction successful\n"
     ]
    }
   ],
   "source": [
    "customer1.deposite()"
   ]
  },
  {
   "cell_type": "code",
   "execution_count": 33,
   "id": "d8035eaf",
   "metadata": {},
   "outputs": [
    {
     "name": "stdout",
     "output_type": "stream",
     "text": [
      "pick an utilities option [airtime, dstv/gotv, nepa, databoundles]:data\n",
      "Enter Amount to recharge:3000\n",
      "Enter phone Number:909090909\n",
      "Enter Network provider:mtn\n",
      "Transaction successful\n"
     ]
    }
   ],
   "source": [
    "customer1.utilites()"
   ]
  },
  {
   "cell_type": "code",
   "execution_count": null,
   "id": "30ec736e",
   "metadata": {},
   "outputs": [],
   "source": []
  }
 ],
 "metadata": {
  "kernelspec": {
   "display_name": "Python 3 (ipykernel)",
   "language": "python",
   "name": "python3"
  },
  "language_info": {
   "codemirror_mode": {
    "name": "ipython",
    "version": 3
   },
   "file_extension": ".py",
   "mimetype": "text/x-python",
   "name": "python",
   "nbconvert_exporter": "python",
   "pygments_lexer": "ipython3",
   "version": "3.9.12"
  }
 },
 "nbformat": 4,
 "nbformat_minor": 5
}
