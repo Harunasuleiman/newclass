{
 "cells": [
  {
   "cell_type": "code",
   "execution_count": 1,
   "id": "e5942c22",
   "metadata": {},
   "outputs": [],
   "source": [
    "import mysql. connector"
   ]
  },
  {
   "cell_type": "code",
   "execution_count": 4,
   "id": "1b3b482e",
   "metadata": {},
   "outputs": [],
   "source": [
    "mydb=mysql.connector.connect(\n",
    "     host = 'localhost',\n",
    "     user = 'root',\n",
    "     password = '09126589469',\n",
    "     database = 'buildpointsystem',\n",
    ")\n",
    "mycursor = mydb.cursor()"
   ]
  },
  {
   "cell_type": "code",
   "execution_count": 27,
   "id": "4703cb6e",
   "metadata": {},
   "outputs": [
    {
     "name": "stdout",
     "output_type": "stream",
     "text": [
      "Enter your password:admin101\n",
      "Enter yes to perform operationyes\n",
      "choose operation option [accept, display, search, delete, logout]:accept\n",
      "Staff ID:1\n",
      "Staff name:mary lawal\n",
      "Staff gender:female\n",
      "Staff dob:1997-03-12\n",
      "Staff contact:09126589469\n",
      "Staff jobdescription:senior IT officer 1\n",
      "Enter yes to perfprm operationyes\n",
      "choose operation option [accept, display, search, delete, logout]:accept \n",
      "Enter yes to perfprm operationyes\n",
      "choose operation option [accept, display, search, delete, logout]:accept\n",
      "Staff ID:2\n",
      "Staff name:haruna suleiman\n",
      "Staff gender:male\n",
      "Staff dob:1997-10-09\n",
      "Staff contact:09126589469\n",
      "Staff jobdescription:Junior IT officer 2\n",
      "Enter yes to perfprm operationyes\n",
      "choose operation option [accept, display, search, delete, logout]:display\n",
      "(1, 'mary lawal', 'female', datetime.date(1997, 3, 12), '09126589469', 'senior IT officer 1')\n",
      "(2, 'haruna suleiman', 'male', datetime.date(1997, 10, 9), '09126589469', 'Junior IT officer 2')\n",
      "Enter yes to perfprm operationyes\n",
      "choose operation option [accept, display, search, delete, logout]:search\n",
      "staff ID:1\n"
     ]
    },
    {
     "ename": "AttributeError",
     "evalue": "'str' object has no attribute 'formart'",
     "output_type": "error",
     "traceback": [
      "\u001b[1;31m---------------------------------------------------------------------------\u001b[0m",
      "\u001b[1;31mAttributeError\u001b[0m                            Traceback (most recent call last)",
      "Input \u001b[1;32mIn [27]\u001b[0m, in \u001b[0;36m<cell line: 42>\u001b[1;34m()\u001b[0m\n\u001b[0;32m     50\u001b[0m     program\u001b[38;5;241m.\u001b[39mdisplay ()\n\u001b[0;32m     51\u001b[0m \u001b[38;5;28;01melif\u001b[39;00m option \u001b[38;5;241m==\u001b[39m \u001b[38;5;124m'\u001b[39m\u001b[38;5;124msearch\u001b[39m\u001b[38;5;124m'\u001b[39m:\n\u001b[1;32m---> 52\u001b[0m     \u001b[43mprogram\u001b[49m\u001b[38;5;241;43m.\u001b[39;49m\u001b[43msearch\u001b[49m\u001b[43m \u001b[49m\u001b[43m(\u001b[49m\u001b[43m)\u001b[49m\n\u001b[0;32m     53\u001b[0m \u001b[38;5;28;01melif\u001b[39;00m option \u001b[38;5;241m==\u001b[39m \u001b[38;5;124m'\u001b[39m\u001b[38;5;124mupdate\u001b[39m\u001b[38;5;124m'\u001b[39m:\n\u001b[0;32m     54\u001b[0m     program\u001b[38;5;241m.\u001b[39mupdate()\n",
      "Input \u001b[1;32mIn [27]\u001b[0m, in \u001b[0;36mstaffrecords.search\u001b[1;34m(self)\u001b[0m\n\u001b[0;32m     19\u001b[0m \u001b[38;5;28;01mdef\u001b[39;00m \u001b[38;5;21msearch\u001b[39m(\u001b[38;5;28mself\u001b[39m):\n\u001b[0;32m     20\u001b[0m     Id \u001b[38;5;241m=\u001b[39m \u001b[38;5;28minput\u001b[39m (\u001b[38;5;124m'\u001b[39m\u001b[38;5;124mstaff ID:\u001b[39m\u001b[38;5;124m'\u001b[39m)\n\u001b[1;32m---> 21\u001b[0m     mycursor\u001b[38;5;241m.\u001b[39mexecute(\u001b[38;5;124;43m'\u001b[39;49m\u001b[38;5;124;43mselect * from staffdetails where Id = \u001b[39;49m\u001b[38;5;132;43;01m{}\u001b[39;49;00m\u001b[38;5;124;43m'\u001b[39;49m\u001b[38;5;241;43m.\u001b[39;49m\u001b[43mformart\u001b[49m(Id)) \n\u001b[0;32m     22\u001b[0m     \u001b[38;5;28;01mfor\u001b[39;00m x \u001b[38;5;129;01min\u001b[39;00m mycursor:\n\u001b[0;32m     23\u001b[0m         \u001b[38;5;28mprint\u001b[39m (x)\n",
      "\u001b[1;31mAttributeError\u001b[0m: 'str' object has no attribute 'formart'"
     ]
    }
   ],
   "source": [
    "class staffrecords:\n",
    "    def accept(self):\n",
    "        Id = input ('Staff ID:')\n",
    "        name = input('Staff name:')\n",
    "        gender =input ('Staff gender:')\n",
    "        dob =  input('Staff dob:')\n",
    "        contact =  input('Staff contact:')\n",
    "        jobdescription = input('Staff jobdescription:')\n",
    "        \n",
    "        sql = 'insert into staffdetails(Id, name, gender, dob, contact, jobdescription) values (%s,%s,%s,%s,%s,%s)'\n",
    "        val = [(int(Id),name, gender, dob,contact, jobdescription)]\n",
    "        mycursor.executemany(sql,val)\n",
    "        mydb.commit()\n",
    "        \n",
    "    def display(self):\n",
    "        mycursor.execute('select * from staffdetails')\n",
    "        for x in mycursor:\n",
    "            print (x)\n",
    "    def search(self):\n",
    "        Id = input ('staff ID:')\n",
    "        mycursor.execute('select * from staffdetails where Id = {}'.formart(Id)) \n",
    "        for x in mycursor:\n",
    "            print (x)\n",
    "    def update (self):\n",
    "        Id = input('staff ID:')\n",
    "        column =input ('Enter column to update:')\n",
    "        value = input ('Enter the new value:')\n",
    "        mycursor.execute ('update staffdetails set {} = \"{}\" where Id ={}'.formart (column, value, Id))\n",
    "        mybd.commit()\n",
    "        for x in mycursor:\n",
    "            print (x)\n",
    "    def delete (self):\n",
    "        Id = input ('staff ID:')\n",
    "        mycursor.execute ('delete from staffdetails where Id = {}' .format(Id))\n",
    "        mydb.commit()\n",
    "        for x in mycursor:\n",
    "            print(x)\n",
    "program = staffrecords()\n",
    "\n",
    "password = 'admin101'\n",
    "passid = input('Enter your password:')\n",
    "if password ==passid:\n",
    "    operation = input ('Enter yes to perform operation')\n",
    "    counter =0\n",
    "    while operation == 'yes':\n",
    "        option = input('choose operation option [accept, display, search, delete, logout]:')\n",
    "        if option == 'accept':\n",
    "             program.accept()\n",
    "        elif option == 'display':\n",
    "            program.display ()\n",
    "        elif option == 'search':\n",
    "            program.search ()\n",
    "        elif option == 'update':\n",
    "            program.update()\n",
    "        elif option == 'delete':\n",
    "            program.delete()\n",
    "        elif option == 'logout':\n",
    "            print ('loging out .....')\n",
    "            break\n",
    "        operation = input ('Enter yes to perfprm operation')\n",
    "        counter +=1\n",
    "else:\n",
    "    print ('invalid passsword')\n",
    "            \n",
    "        \n",
    "        "
   ]
  },
  {
   "cell_type": "code",
   "execution_count": null,
   "id": "f07c7b80",
   "metadata": {},
   "outputs": [],
   "source": []
  }
 ],
 "metadata": {
  "kernelspec": {
   "display_name": "Python 3 (ipykernel)",
   "language": "python",
   "name": "python3"
  },
  "language_info": {
   "codemirror_mode": {
    "name": "ipython",
    "version": 3
   },
   "file_extension": ".py",
   "mimetype": "text/x-python",
   "name": "python",
   "nbconvert_exporter": "python",
   "pygments_lexer": "ipython3",
   "version": "3.9.12"
  }
 },
 "nbformat": 4,
 "nbformat_minor": 5
}
