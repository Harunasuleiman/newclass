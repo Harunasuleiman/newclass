{
 "cells": [
  {
   "cell_type": "markdown",
   "metadata": {},
   "source": [
    "# loops"
   ]
  },
  {
   "cell_type": "code",
   "execution_count": 1,
   "metadata": {},
   "outputs": [],
   "source": [
    "## for loop"
   ]
  },
  {
   "cell_type": "code",
   "execution_count": 2,
   "metadata": {},
   "outputs": [
    {
     "name": "stdout",
     "output_type": "stream",
     "text": [
      "ppp\n",
      "yyy\n",
      "ttt\n",
      "hhh\n",
      "ooo\n",
      "nnn\n"
     ]
    }
   ],
   "source": [
    "word = 'python'\n",
    "for char in word:\n",
    "    print(char * 3)"
   ]
  },
  {
   "cell_type": "code",
   "execution_count": 5,
   "metadata": {},
   "outputs": [
    {
     "name": "stdout",
     "output_type": "stream",
     "text": [
      "ppp/////yyy/////ttt/////hhh/////ooo/////nnn/////"
     ]
    }
   ],
   "source": [
    "word = 'python'\n",
    "for char in word:\n",
    "    print(char * 3,end = '/////')"
   ]
  },
  {
   "cell_type": "markdown",
   "metadata": {},
   "source": [
    "# In a school, how can you use a for loop to iterate over a list of students and perform a specific action for each student, such as printing out their grades or generating a report card?"
   ]
  },
  {
   "cell_type": "code",
   "execution_count": 6,
   "metadata": {},
   "outputs": [
    {
     "name": "stdout",
     "output_type": "stream",
     "text": [
      "_________STUDENT REPORT CARD_______\n",
      "NAME:Sam Jones\n",
      "ENGLISH:85\n",
      "MATH:75\n",
      "PHYSICS:78\n",
      "CHEMISTRY:70\n",
      "AVERAGE:77.0\n",
      "\n",
      "_________STUDENT REPORT CARD_______\n",
      "NAME:Mary Lawal\n",
      "ENGLISH:90\n",
      "MATH:75\n",
      "PHYSICS:52\n",
      "CHEMISTRY:88\n",
      "AVERAGE:76.25\n",
      "\n",
      "_________STUDENT REPORT CARD_______\n",
      "NAME:Okoro Samson\n",
      "ENGLISH:85\n",
      "MATH:100\n",
      "PHYSICS:99\n",
      "CHEMISTRY:72\n",
      "AVERAGE:89.0\n",
      "\n",
      "_________STUDENT REPORT CARD_______\n",
      "NAME:Favor Agben\n",
      "ENGLISH:77\n",
      "MATH:78\n",
      "PHYSICS:82\n",
      "CHEMISTRY:70\n",
      "AVERAGE:76.75\n",
      "\n",
      "_________STUDENT REPORT CARD_______\n",
      "NAME:Kunle Afod\n",
      "ENGLISH:85\n",
      "MATH:75\n",
      "PHYSICS:92\n",
      "CHEMISTRY:74\n",
      "AVERAGE:81.5\n",
      "\n"
     ]
    }
   ],
   "source": [
    "student_records = {'001':{'Name':'Sam Jones','English':85,\n",
    "                    'Math':75,'Physics':78,'Chemistry':70},\n",
    "                 '002':{'Name':'Mary Lawal','English':90,\n",
    "                    'Math':75,'Physics':52,'Chemistry':88},\n",
    "                 '003':{'Name':'Okoro Samson','English':85,\n",
    "                    'Math':100,'Physics':99,'Chemistry':72},\n",
    "                 '004':{'Name':'Favor Agben','English':77,\n",
    "                    'Math':78,'Physics':82,'Chemistry':70},\n",
    "                 '005':{'Name':'Kunle Afod','English':85,\n",
    "                    'Math':75,'Physics':92,'Chemistry':74}}\n",
    "for key in student_records:\n",
    "    print(f'''_________STUDENT REPORT CARD_______\n",
    "NAME:{student_records[key]['Name']}\n",
    "ENGLISH:{student_records[key]['English']}\n",
    "MATH:{student_records[key]['Math']}\n",
    "PHYSICS:{student_records[key]['Physics']}\n",
    "CHEMISTRY:{student_records[key]['Chemistry']}\n",
    "AVERAGE:{(student_records[key]['English'] +student_records[key]['Math'] + student_records[key]['Physics']+ student_records[key]['Chemistry'])/4}\n",
    "''')"
   ]
  },
  {
   "cell_type": "code",
   "execution_count": 17,
   "metadata": {},
   "outputs": [
    {
     "name": "stdout",
     "output_type": "stream",
     "text": [
      "Please provide your id to check result:002\n",
      "_________STUDENT REPORT CARD_______\n",
      "NAME:Mary Lawal\n",
      "ENGLISH:90\n",
      "MATH:75\n",
      "PHYSICS:52\n",
      "CHEMISTRY:88\n",
      "AVERAGE:76.25\n",
      "\n"
     ]
    }
   ],
   "source": [
    "student_records = {'001':{'Name':'Sam Jones','English':85,\n",
    "                    'Math':75,'Physics':78,'Chemistry':70},\n",
    "                 '002':{'Name':'Mary Lawal','English':90,\n",
    "                    'Math':75,'Physics':52,'Chemistry':88},\n",
    "                 '003':{'Name':'Okoro Samson','English':85,\n",
    "                    'Math':100,'Physics':99,'Chemistry':72},\n",
    "                 '004':{'Name':'Favor Agben','English':77,\n",
    "                    'Math':78,'Physics':82,'Chemistry':70},\n",
    "                 '005':{'Name':'Kunle Afod','English':85,\n",
    "                    'Math':75,'Physics':92,'Chemistry':74}}\n",
    "studentid = input('Please provide your id to check result:')\n",
    "for key in student_records:\n",
    "    if key == studentid:\n",
    "        print(f'''_________STUDENT REPORT CARD_______\n",
    "NAME:{student_records[key]['Name']}\n",
    "ENGLISH:{student_records[key]['English']}\n",
    "MATH:{student_records[key]['Math']}\n",
    "PHYSICS:{student_records[key]['Physics']}\n",
    "CHEMISTRY:{student_records[key]['Chemistry']}\n",
    "AVERAGE:{(student_records[key]['English'] +student_records[key]['Math'] + student_records[key]['Physics']+ student_records[key]['Chemistry'])/4}\n",
    "''')\n",
    "        break\n",
    "else:\n",
    "        print('Record not found!!!!!')"
   ]
  },
  {
   "cell_type": "code",
   "execution_count": null,
   "metadata": {},
   "outputs": [],
   "source": []
  }
 ],
 "metadata": {
  "kernelspec": {
   "display_name": "Python 3",
   "language": "python",
   "name": "python3"
  },
  "language_info": {
   "codemirror_mode": {
    "name": "ipython",
    "version": 3
   },
   "file_extension": ".py",
   "mimetype": "text/x-python",
   "name": "python",
   "nbconvert_exporter": "python",
   "pygments_lexer": "ipython3",
   "version": "3.8.3"
  }
 },
 "nbformat": 4,
 "nbformat_minor": 4
}
