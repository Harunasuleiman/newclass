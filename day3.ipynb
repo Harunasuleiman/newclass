{
 "cells": [
  {
   "cell_type": "markdown",
   "id": "16fbd892",
   "metadata": {},
   "source": [
    "# DAY ONE ASSIGNMENT\n",
    "# Using the multiline string display a poem of your choice\n",
    "# Apply all the string methods taught in the following ::::: 1. ‘python is easy to learn’, 2. ‘   My hope alive’"
   ]
  },
  {
   "cell_type": "code",
   "execution_count": 1,
   "id": "b76dfd4b",
   "metadata": {},
   "outputs": [
    {
     "name": "stdout",
     "output_type": "stream",
     "text": [
      "OH MY SWEET PYTHON\n",
      "HOW I LOVE TO GET YOU\n",
      "HOW I TRY TO LEARN YOU\n",
      "AT LAST I FOUND OUT YOU ARE EASY AND FUN TO LEARN\n",
      "\n"
     ]
    }
   ],
   "source": [
    "# NUMBER ONE\n",
    "poem = '''OH MY SWEET PYTHON\n",
    "HOW I LOVE TO GET YOU\n",
    "HOW I TRY TO LEARN YOU\n",
    "AT LAST I FOUND OUT YOU ARE EASY AND FUN TO LEARN\n",
    "'''\n",
    "print(poem)"
   ]
  },
  {
   "cell_type": "code",
   "execution_count": 2,
   "id": "d41a54ec",
   "metadata": {},
   "outputs": [
    {
     "name": "stdout",
     "output_type": "stream",
     "text": [
      "PYTHON IS EASY TO LEARN\n",
      "python is easy to learn\n",
      "Python is easy to learn\n",
      "Python Is Easy To Learn\n",
      "['python', 'is', 'easy', 'to', 'learn']\n",
      "\n",
      "\n",
      "MY HOPE ALIVE\n",
      "my hope alive\n",
      "My hope alive\n",
      "My Hope Alive\n",
      "['My', 'hope', 'alive']\n"
     ]
    }
   ],
   "source": [
    "# NUMBER TWO\n",
    "word1 = 'python is easy to learn'\n",
    "word2 = 'My hope alive'\n",
    "print(word1.upper())\n",
    "print(word1.lower())\n",
    "print(word1.capitalize())\n",
    "print(word1.title())\n",
    "print(word1.split())\n",
    "print('\\n')\n",
    "print(word2.upper())\n",
    "print(word2.lower())\n",
    "print(word2.capitalize())\n",
    "print(word2.title())\n",
    "print(word2.split())"
   ]
  },
  {
   "cell_type": "markdown",
   "id": "ab2b2fc2",
   "metadata": {},
   "source": [
    "# ITERIABLE OBJECT(ADVANCED DATA TYPE)"
   ]
  },
  {
   "cell_type": "code",
   "execution_count": 3,
   "id": "47ec4d84",
   "metadata": {},
   "outputs": [],
   "source": [
    "numbers = (14,25,35,36,30,25,82,89,45,78,25,89,86,30,25,30)"
   ]
  },
  {
   "cell_type": "code",
   "execution_count": 4,
   "id": "b9992a3a",
   "metadata": {},
   "outputs": [
    {
     "name": "stdout",
     "output_type": "stream",
     "text": [
      "<class 'tuple'>\n",
      "16\n"
     ]
    }
   ],
   "source": [
    "print(type(numbers))\n",
    "print(len(numbers))"
   ]
  },
  {
   "cell_type": "code",
   "execution_count": 5,
   "id": "ada3ca28",
   "metadata": {},
   "outputs": [
    {
     "name": "stdout",
     "output_type": "stream",
     "text": [
      "89\n"
     ]
    }
   ],
   "source": [
    "print(numbers[7])"
   ]
  },
  {
   "cell_type": "code",
   "execution_count": 6,
   "id": "9c3452dd",
   "metadata": {},
   "outputs": [
    {
     "name": "stdout",
     "output_type": "stream",
     "text": [
      "89\n"
     ]
    }
   ],
   "source": [
    "print(numbers[-9])"
   ]
  },
  {
   "cell_type": "code",
   "execution_count": 8,
   "id": "b23ccf53",
   "metadata": {},
   "outputs": [
    {
     "name": "stdout",
     "output_type": "stream",
     "text": [
      "25 78 86\n"
     ]
    }
   ],
   "source": [
    "print(numbers[5], numbers[9],numbers[12])"
   ]
  },
  {
   "cell_type": "code",
   "execution_count": 10,
   "id": "fe842ac9",
   "metadata": {},
   "outputs": [
    {
     "name": "stdout",
     "output_type": "stream",
     "text": [
      "(36, 30, 25, 82, 89, 45, 78)\n"
     ]
    }
   ],
   "source": [
    "print(numbers[3:10])"
   ]
  },
  {
   "cell_type": "code",
   "execution_count": 11,
   "id": "fd40be11",
   "metadata": {},
   "outputs": [
    {
     "name": "stdout",
     "output_type": "stream",
     "text": [
      "False\n"
     ]
    }
   ],
   "source": [
    "print(100 in numbers)"
   ]
  },
  {
   "cell_type": "code",
   "execution_count": 13,
   "id": "b26cd75b",
   "metadata": {},
   "outputs": [
    {
     "name": "stdout",
     "output_type": "stream",
     "text": [
      "4\n"
     ]
    }
   ],
   "source": [
    "print(numbers.count(25))"
   ]
  },
  {
   "cell_type": "code",
   "execution_count": 14,
   "id": "7dbb9683",
   "metadata": {},
   "outputs": [
    {
     "name": "stdout",
     "output_type": "stream",
     "text": [
      "8\n"
     ]
    }
   ],
   "source": [
    "print(numbers.index(45))"
   ]
  },
  {
   "cell_type": "markdown",
   "id": "6bb08ec9",
   "metadata": {},
   "source": [
    "# List"
   ]
  },
  {
   "cell_type": "code",
   "execution_count": 15,
   "id": "ddc93dee",
   "metadata": {},
   "outputs": [],
   "source": [
    "items = ['Cups','Spoon','Apple','Lemon','Grape','Apple']"
   ]
  },
  {
   "cell_type": "code",
   "execution_count": 16,
   "id": "80d63d3a",
   "metadata": {},
   "outputs": [
    {
     "name": "stdout",
     "output_type": "stream",
     "text": [
      "['Cups', 'Spoon', 'Apple', 'Lemon', 'Grape', 'Apple', 'Pear']\n"
     ]
    }
   ],
   "source": [
    "items.append('Pear')\n",
    "print(items)"
   ]
  },
  {
   "cell_type": "code",
   "execution_count": 17,
   "id": "be0a116f",
   "metadata": {},
   "outputs": [
    {
     "name": "stdout",
     "output_type": "stream",
     "text": [
      "['Cups', 'Spoon', 'Strawberry', 'Apple', 'Lemon', 'Grape', 'Apple', 'Pear']\n"
     ]
    }
   ],
   "source": [
    "items.insert(2,'Strawberry')\n",
    "print(items)"
   ]
  },
  {
   "cell_type": "code",
   "execution_count": 18,
   "id": "86ece919",
   "metadata": {},
   "outputs": [
    {
     "name": "stdout",
     "output_type": "stream",
     "text": [
      "['Cups', 'Spoon', 'Strawberry', 'Apple', 'Lemon', 'Grape', 'Apple', 'Pear', 'Cups', 'Pencil', 'Books']\n"
     ]
    }
   ],
   "source": [
    "items2 = ['Cups','Pencil','Books']\n",
    "items.extend(items2)\n",
    "print(items)"
   ]
  },
  {
   "cell_type": "code",
   "execution_count": 19,
   "id": "e574d2df",
   "metadata": {},
   "outputs": [
    {
     "name": "stdout",
     "output_type": "stream",
     "text": [
      "['Cups', 'Spoon', 'Strawberry', 'Apple', 'Lemon', 'Apple', 'Pear', 'Cups', 'Pencil', 'Books']\n"
     ]
    }
   ],
   "source": [
    "items.pop(5)\n",
    "print(items)"
   ]
  },
  {
   "cell_type": "code",
   "execution_count": 20,
   "id": "63c71df5",
   "metadata": {},
   "outputs": [
    {
     "name": "stdout",
     "output_type": "stream",
     "text": [
      "['Cups', 'Spoon', 'Strawberry', 'Lemon', 'Apple', 'Pear', 'Cups', 'Pencil', 'Books']\n"
     ]
    }
   ],
   "source": [
    "items.remove('Apple')\n",
    "print(items)"
   ]
  },
  {
   "cell_type": "code",
   "execution_count": 21,
   "id": "7ed5b750",
   "metadata": {},
   "outputs": [
    {
     "name": "stdout",
     "output_type": "stream",
     "text": [
      "['Apple', 'Books', 'Cups', 'Cups', 'Lemon', 'Pear', 'Pencil', 'Spoon', 'Strawberry']\n"
     ]
    }
   ],
   "source": [
    "items.sort()\n",
    "print(items)"
   ]
  },
  {
   "cell_type": "code",
   "execution_count": 22,
   "id": "8b8b7a88",
   "metadata": {},
   "outputs": [
    {
     "name": "stdout",
     "output_type": "stream",
     "text": [
      "['Strawberry', 'Spoon', 'Pencil', 'Pear', 'Lemon', 'Cups', 'Cups', 'Books', 'Apple']\n"
     ]
    }
   ],
   "source": [
    "items.reverse()\n",
    "print(items)"
   ]
  },
  {
   "cell_type": "code",
   "execution_count": 23,
   "id": "95414f5d",
   "metadata": {},
   "outputs": [
    {
     "name": "stdout",
     "output_type": "stream",
     "text": [
      "['Strawberry', 'Spoon', 'Pencil', 'Pear', 'Lemon', 'Cups', 'Cups', 'Books', 'Apple']\n"
     ]
    }
   ],
   "source": [
    "items_copy = items.copy()\n",
    "print(items_copy)"
   ]
  },
  {
   "cell_type": "code",
   "execution_count": 25,
   "id": "45b51ade",
   "metadata": {},
   "outputs": [
    {
     "name": "stdout",
     "output_type": "stream",
     "text": [
      "[]\n"
     ]
    }
   ],
   "source": [
    "items_copy.clear()\n",
    "print(items_copy)"
   ]
  },
  {
   "cell_type": "code",
   "execution_count": 26,
   "id": "746e614b",
   "metadata": {},
   "outputs": [
    {
     "ename": "NameError",
     "evalue": "name 'items_copy' is not defined",
     "output_type": "error",
     "traceback": [
      "\u001b[1;31m---------------------------------------------------------------------------\u001b[0m",
      "\u001b[1;31mNameError\u001b[0m                                 Traceback (most recent call last)",
      "Input \u001b[1;32mIn [26]\u001b[0m, in \u001b[0;36m<cell line: 2>\u001b[1;34m()\u001b[0m\n\u001b[0;32m      1\u001b[0m \u001b[38;5;28;01mdel\u001b[39;00m(items_copy)\n\u001b[1;32m----> 2\u001b[0m \u001b[38;5;28mprint\u001b[39m(\u001b[43mitems_copy\u001b[49m)\n",
      "\u001b[1;31mNameError\u001b[0m: name 'items_copy' is not defined"
     ]
    }
   ],
   "source": [
    "del(items_copy)\n",
    "print(items_copy)"
   ]
  },
  {
   "cell_type": "markdown",
   "id": "bb6e0cfb",
   "metadata": {},
   "source": [
    "# Dictionary"
   ]
  },
  {
   "cell_type": "code",
   "execution_count": 27,
   "id": "ab3527cf",
   "metadata": {},
   "outputs": [
    {
     "name": "stdout",
     "output_type": "stream",
     "text": [
      "45\n"
     ]
    }
   ],
   "source": [
    "records = {\n",
    "    'Name':'Adebisi',\n",
    "    'Gender':'Male',\n",
    "    'Age':45,\n",
    "    'Weight':69.50\n",
    "}\n",
    "print(records['Age'])"
   ]
  },
  {
   "cell_type": "code",
   "execution_count": 28,
   "id": "4874c66b",
   "metadata": {},
   "outputs": [
    {
     "name": "stdout",
     "output_type": "stream",
     "text": [
      "dict_keys(['Name', 'Gender', 'Age', 'Weight'])\n"
     ]
    }
   ],
   "source": [
    "print(records.keys())"
   ]
  },
  {
   "cell_type": "code",
   "execution_count": 29,
   "id": "86e96608",
   "metadata": {},
   "outputs": [
    {
     "name": "stdout",
     "output_type": "stream",
     "text": [
      "dict_values(['Adebisi', 'Male', 45, 69.5])\n"
     ]
    }
   ],
   "source": [
    "print(records.values())"
   ]
  },
  {
   "cell_type": "code",
   "execution_count": 30,
   "id": "e6a179b3",
   "metadata": {},
   "outputs": [
    {
     "name": "stdout",
     "output_type": "stream",
     "text": [
      "dict_items([('Name', 'Adebisi'), ('Gender', 'Male'), ('Age', 45), ('Weight', 69.5)])\n"
     ]
    }
   ],
   "source": [
    "print(records.items())"
   ]
  },
  {
   "cell_type": "code",
   "execution_count": 31,
   "id": "6fda7569",
   "metadata": {},
   "outputs": [
    {
     "name": "stdout",
     "output_type": "stream",
     "text": [
      "{'Name': 'Adebisi', 'Gender': 'Male', 'Age': 45, 'Weight': 69.5, 'Height': 1.85}\n"
     ]
    }
   ],
   "source": [
    "records['Height'] = 1.85\n",
    "print(records)"
   ]
  },
  {
   "cell_type": "code",
   "execution_count": 32,
   "id": "5b51089d",
   "metadata": {},
   "outputs": [
    {
     "name": "stdout",
     "output_type": "stream",
     "text": [
      "{'Name': 'Adebisi', 'Gender': 'Male', 'Age': 45, 'Weight': 68, 'Height': 1.85}\n"
     ]
    }
   ],
   "source": [
    "r = {'Weight':68}\n",
    "records.update(r)\n",
    "print(records)"
   ]
  },
  {
   "cell_type": "code",
   "execution_count": 33,
   "id": "a106e7e9",
   "metadata": {},
   "outputs": [
    {
     "name": "stdout",
     "output_type": "stream",
     "text": [
      "Male\n"
     ]
    }
   ],
   "source": [
    "print(records.get('Gender'))"
   ]
  },
  {
   "cell_type": "code",
   "execution_count": 35,
   "id": "7dd5e14c",
   "metadata": {},
   "outputs": [
    {
     "name": "stdout",
     "output_type": "stream",
     "text": [
      "{'Name': 'Adebisi', 'Gender': 'Male', 'Weight': 68, 'Height': 1.85}\n"
     ]
    }
   ],
   "source": [
    "records.pop('Age')\n",
    "print(records)"
   ]
  },
  {
   "cell_type": "code",
   "execution_count": 36,
   "id": "3cb802b9",
   "metadata": {},
   "outputs": [
    {
     "name": "stdout",
     "output_type": "stream",
     "text": [
      "{'Name': 'Adebisi', 'Gender': 'Male', 'Weight': 68}\n"
     ]
    }
   ],
   "source": [
    "records.popitem()\n",
    "print(records)"
   ]
  },
  {
   "cell_type": "code",
   "execution_count": 38,
   "id": "bba1d843",
   "metadata": {},
   "outputs": [],
   "source": [
    "family1 = {\n",
    "    'firstchild': ['John','Male',30,1.80,69],\n",
    "    'secondchild': ['Praise','Male',26,1.90,70],\n",
    "    'thirdchild': ['Mary','Female',22,1.80,60]\n",
    "    \n",
    "}"
   ]
  },
  {
   "cell_type": "code",
   "execution_count": 39,
   "id": "913367dc",
   "metadata": {},
   "outputs": [
    {
     "name": "stdout",
     "output_type": "stream",
     "text": [
      "['John', 'Male', 30, 1.8, 69]\n"
     ]
    }
   ],
   "source": [
    "print(family1['firstchild'])"
   ]
  },
  {
   "cell_type": "code",
   "execution_count": 40,
   "id": "c12ec276",
   "metadata": {},
   "outputs": [
    {
     "name": "stdout",
     "output_type": "stream",
     "text": [
      "30\n"
     ]
    }
   ],
   "source": [
    "print(family1['firstchild'][2])"
   ]
  },
  {
   "cell_type": "code",
   "execution_count": 41,
   "id": "7e1f96bb",
   "metadata": {},
   "outputs": [],
   "source": [
    "family2 = {\n",
    "'firstchild': {'Name':'John','Gender':'Male','Age':30,'Heigth':1.80,'Weight':69},\n",
    "'secondchild': ['Praise','Male',26,1.90,70],\n",
    "'thirdchild': ['Mary','Female',22,1.80,60]\n",
    "    \n",
    "}"
   ]
  },
  {
   "cell_type": "code",
   "execution_count": 42,
   "id": "6a0f8eaf",
   "metadata": {},
   "outputs": [
    {
     "name": "stdout",
     "output_type": "stream",
     "text": [
      "30\n"
     ]
    }
   ],
   "source": [
    "print(family2['firstchild']['Age'])"
   ]
  },
  {
   "cell_type": "code",
   "execution_count": null,
   "id": "9430b52e",
   "metadata": {},
   "outputs": [],
   "source": []
  }
 ],
 "metadata": {
  "kernelspec": {
   "display_name": "Python 3 (ipykernel)",
   "language": "python",
   "name": "python3"
  },
  "language_info": {
   "codemirror_mode": {
    "name": "ipython",
    "version": 3
   },
   "file_extension": ".py",
   "mimetype": "text/x-python",
   "name": "python",
   "nbconvert_exporter": "python",
   "pygments_lexer": "ipython3",
   "version": "3.9.12"
  }
 },
 "nbformat": 4,
 "nbformat_minor": 5
}
