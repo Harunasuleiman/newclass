{
 "cells": [
  {
   "cell_type": "code",
   "execution_count": 34,
   "id": "8ede5427",
   "metadata": {},
   "outputs": [
    {
     "name": "stdout",
     "output_type": "stream",
     "text": [
      "Longest word:transportation,\n",
      "ShortestWord: a\n",
      "Mostword: and\n",
      "\n"
     ]
    }
   ],
   "source": [
    "try:\n",
    "    file = open('news.txt','r')\n",
    "    content = file.read()\n",
    "    words = content.split()\n",
    "except FileNotFoundError:\n",
    "    print('The file you are trying to read does not exist')\n",
    "else:\n",
    "    wordlen = [ len(word) for word in words]\n",
    "    longestword = words[wordlen.index(max(wordlen))]\n",
    "    shortestword  = words[wordlen.index(min(wordlen))]\n",
    "    wordcount = {}\n",
    "    for word in words:\n",
    "        if word in wordcount:\n",
    "            wordcount[word] += 1\n",
    "        else:\n",
    "            wordcount[word] = 1  \n",
    "    mostword = max(wordcount, key = wordcount.get)\n",
    "finally:\n",
    "    print(f'''Longest word:{longestword}\n",
    "ShortestWord: {shortestword}\n",
    "Mostword: {mostword}\n",
    "''')"
   ]
  },
  {
   "cell_type": "code",
   "execution_count": 30,
   "id": "813ca189",
   "metadata": {},
   "outputs": [],
   "source": [
    "import re\n",
    "a=re.findall('a',content)\n",
    "andw = re.findall('is',content)"
   ]
  },
  {
   "cell_type": "code",
   "execution_count": 31,
   "id": "ecd3938c",
   "metadata": {},
   "outputs": [
    {
     "data": {
      "text/plain": [
       "144"
      ]
     },
     "execution_count": 31,
     "metadata": {},
     "output_type": "execute_result"
    }
   ],
   "source": [
    "len(a)"
   ]
  },
  {
   "cell_type": "code",
   "execution_count": 32,
   "id": "f8b56654",
   "metadata": {},
   "outputs": [
    {
     "data": {
      "text/plain": [
       "7"
      ]
     },
     "execution_count": 32,
     "metadata": {},
     "output_type": "execute_result"
    }
   ],
   "source": [
    "len(andw)"
   ]
  },
  {
   "cell_type": "markdown",
   "id": "0dba1193",
   "metadata": {},
   "source": [
    "# DATE AND TIME"
   ]
  },
  {
   "cell_type": "code",
   "execution_count": 35,
   "id": "5eadd9d7",
   "metadata": {},
   "outputs": [
    {
     "name": "stdout",
     "output_type": "stream",
     "text": [
      "['MAXYEAR', 'MINYEAR', '__all__', '__builtins__', '__cached__', '__doc__', '__file__', '__loader__', '__name__', '__package__', '__spec__', 'date', 'datetime', 'datetime_CAPI', 'sys', 'time', 'timedelta', 'timezone', 'tzinfo']\n"
     ]
    }
   ],
   "source": [
    "import datetime\n",
    "print(dir(datetime))"
   ]
  },
  {
   "cell_type": "code",
   "execution_count": 36,
   "id": "d810a24a",
   "metadata": {},
   "outputs": [
    {
     "data": {
      "text/plain": [
       "datetime.date(2021, 2, 25)"
      ]
     },
     "execution_count": 36,
     "metadata": {},
     "output_type": "execute_result"
    }
   ],
   "source": [
    "date1 = datetime.date(2021,2,25)\n",
    "date1"
   ]
  },
  {
   "cell_type": "code",
   "execution_count": 38,
   "id": "1941a9fb",
   "metadata": {},
   "outputs": [
    {
     "name": "stdout",
     "output_type": "stream",
     "text": [
      "2021\n",
      "2\n",
      "25\n",
      "3\n",
      "4\n"
     ]
    }
   ],
   "source": [
    "print(date1.year)\n",
    "print(date1.month)\n",
    "print(date1.day)\n",
    "print(date1.weekday())\n",
    "print(date1.isoweekday())"
   ]
  },
  {
   "cell_type": "code",
   "execution_count": 39,
   "id": "664e888b",
   "metadata": {},
   "outputs": [
    {
     "data": {
      "text/plain": [
       "datetime.date(2023, 4, 14)"
      ]
     },
     "execution_count": 39,
     "metadata": {},
     "output_type": "execute_result"
    }
   ],
   "source": [
    "currentdate = datetime.date.today()\n",
    "currentdate"
   ]
  },
  {
   "cell_type": "code",
   "execution_count": 48,
   "id": "7ec63ee3",
   "metadata": {},
   "outputs": [
    {
     "data": {
      "text/plain": [
       "'14 of April, 2023'"
      ]
     },
     "execution_count": 48,
     "metadata": {},
     "output_type": "execute_result"
    }
   ],
   "source": [
    "currentdate.strftime('%d of %B, %Y')"
   ]
  },
  {
   "cell_type": "code",
   "execution_count": 50,
   "id": "e68c94c0",
   "metadata": {},
   "outputs": [
    {
     "data": {
      "text/plain": [
       "datetime.time(12, 25, 52, 89895)"
      ]
     },
     "execution_count": 50,
     "metadata": {},
     "output_type": "execute_result"
    }
   ],
   "source": [
    "time1 = datetime.time(12,25,52,89895)\n",
    "time1"
   ]
  },
  {
   "cell_type": "code",
   "execution_count": 52,
   "id": "6f75fd3a",
   "metadata": {},
   "outputs": [
    {
     "name": "stdout",
     "output_type": "stream",
     "text": [
      "12\n",
      "25\n",
      "52\n",
      "89895\n"
     ]
    }
   ],
   "source": [
    "print(time1.hour)\n",
    "print(time1.minute)\n",
    "print(time1.second)\n",
    "print(time1.microsecond)"
   ]
  },
  {
   "cell_type": "code",
   "execution_count": 53,
   "id": "851e111a",
   "metadata": {},
   "outputs": [
    {
     "data": {
      "text/plain": [
       "datetime.time(11, 24, 23, 412446)"
      ]
     },
     "execution_count": 53,
     "metadata": {},
     "output_type": "execute_result"
    }
   ],
   "source": [
    "currenttime = datetime.datetime.now().time()\n",
    "currenttime"
   ]
  },
  {
   "cell_type": "code",
   "execution_count": 61,
   "id": "f6503ba2",
   "metadata": {},
   "outputs": [
    {
     "data": {
      "text/plain": [
       "'11::24::23::AM'"
      ]
     },
     "execution_count": 61,
     "metadata": {},
     "output_type": "execute_result"
    }
   ],
   "source": [
    "currenttime.strftime('%I::%M::%S::%p')"
   ]
  },
  {
   "cell_type": "code",
   "execution_count": 65,
   "id": "618ead4e",
   "metadata": {},
   "outputs": [
    {
     "name": "stdout",
     "output_type": "stream",
     "text": [
      "Enter your date in this format[mm/dd/YY]:2/20/2022\n"
     ]
    },
    {
     "data": {
      "text/plain": [
       "datetime.date(2022, 2, 20)"
      ]
     },
     "execution_count": 65,
     "metadata": {},
     "output_type": "execute_result"
    }
   ],
   "source": [
    "date2 = input('Enter your date in this format[mm/dd/YY]:')\n",
    "cdate = datetime.datetime.strptime(date2,'%m/%d/%Y').date()\n",
    "cdate"
   ]
  },
  {
   "cell_type": "code",
   "execution_count": 66,
   "id": "73d9a1fd",
   "metadata": {},
   "outputs": [
    {
     "data": {
      "text/plain": [
       "datetime.timedelta(days=778)"
      ]
     },
     "execution_count": 66,
     "metadata": {},
     "output_type": "execute_result"
    }
   ],
   "source": [
    "currentdate - date1"
   ]
  },
  {
   "cell_type": "code",
   "execution_count": 67,
   "id": "a7b444b8",
   "metadata": {},
   "outputs": [
    {
     "data": {
      "text/plain": [
       "datetime.date(2023, 7, 8)"
      ]
     },
     "execution_count": 67,
     "metadata": {},
     "output_type": "execute_result"
    }
   ],
   "source": [
    "currentdate + datetime.timedelta(days = 85)"
   ]
  },
  {
   "cell_type": "code",
   "execution_count": 68,
   "id": "92a4bb9c",
   "metadata": {},
   "outputs": [
    {
     "data": {
      "text/plain": [
       "datetime.date(2023, 1, 19)"
      ]
     },
     "execution_count": 68,
     "metadata": {},
     "output_type": "execute_result"
    }
   ],
   "source": [
    "currentdate - datetime.timedelta(days = 85)"
   ]
  },
  {
   "cell_type": "code",
   "execution_count": 75,
   "id": "9d5d30cf",
   "metadata": {},
   "outputs": [
    {
     "name": "stdout",
     "output_type": "stream",
     "text": [
      "Enter Package IDSGDFD45785\n",
      "Enter item current_status:pendening\n",
      "Packaged SGDFD45785 still in transit, try again\n",
      "Enter item current_status:delivered\n",
      "Packaged SGDFD45785, delivered successfully.....\n"
     ]
    }
   ],
   "source": [
    "import time\n",
    "def attempt_delivery():\n",
    "    package_id = input('Enter Package ID')\n",
    "    delivered = False\n",
    "    while not delivered:\n",
    "        current_status =input('Enter item current_status:')\n",
    "        if current_status == 'delivered':\n",
    "            print(f'Packaged {package_id}, delivered successfully.....')\n",
    "            delivered = True\n",
    "        else:\n",
    "            print(f'Packaged {package_id} still in transit, try again')\n",
    "            time.sleep(10)\n",
    "attempt_delivery()"
   ]
  },
  {
   "cell_type": "code",
   "execution_count": null,
   "id": "3f1a8187",
   "metadata": {},
   "outputs": [],
   "source": []
  }
 ],
 "metadata": {
  "kernelspec": {
   "display_name": "Python 3 (ipykernel)",
   "language": "python",
   "name": "python3"
  },
  "language_info": {
   "codemirror_mode": {
    "name": "ipython",
    "version": 3
   },
   "file_extension": ".py",
   "mimetype": "text/x-python",
   "name": "python",
   "nbconvert_exporter": "python",
   "pygments_lexer": "ipython3",
   "version": "3.9.12"
  }
 },
 "nbformat": 4,
 "nbformat_minor": 5
}
