{
 "cells": [
  {
   "cell_type": "markdown",
   "id": "53b2520d",
   "metadata": {},
   "source": [
    "# EXERCISE \n",
    "# USING CLASS AND OBJECT TO WRITE A BIKE GAME SIMULATION WITH THE FOLLWOING ATTRIBUTE\n",
    "# BRAND, MODEL, WHEEL TYPE, COLOR, YEARRELEASED, SPEED AND THE FOLLOWING METHOD\n",
    "# START, GEAR, POWER ACCELERATE AND STOP\n",
    "# CREATE A NEW CLASS TO INHERITE THE PROPERTIES OF THE BIKE SIMULATION WITH THIS METHOD SHEILD"
   ]
  },
  {
   "cell_type": "markdown",
   "id": "42889ea2",
   "metadata": {},
   "source": [
    "# ERROR HANDLING"
   ]
  },
  {
   "cell_type": "code",
   "execution_count": 1,
   "id": "6d7ada83",
   "metadata": {},
   "outputs": [],
   "source": [
    "# try, except, else and finally"
   ]
  },
  {
   "cell_type": "code",
   "execution_count": 3,
   "id": "638f1388",
   "metadata": {},
   "outputs": [
    {
     "name": "stdout",
     "output_type": "stream",
     "text": [
      "Enter number one:80\n",
      "Enter number two:p\n",
      "You have encountered one or more errors\n"
     ]
    }
   ],
   "source": [
    "try:\n",
    "    num1 = int(input('Enter number one:'))\n",
    "    num2 = int(input('Enter number two:'))\n",
    "    option = input('Pick operation (+, -, /, *):')\n",
    "    if option == '+':\n",
    "        print(f'{num1} + {num2} = {num1 + num2}')\n",
    "    elif option == '-':\n",
    "        print(f'{num1} - {num2} = {num1 - num2}')\n",
    "    elif option == '/':\n",
    "        print(f'{num1} / {num2} = {num1 / num2}')\n",
    "    elif option == '*':\n",
    "        print(f'{num1} * {num2} = {num1 * num2}')\n",
    "except:\n",
    "    print('You have encountered one or more errors')"
   ]
  },
  {
   "cell_type": "code",
   "execution_count": 6,
   "id": "c992fa3a",
   "metadata": {},
   "outputs": [
    {
     "name": "stdout",
     "output_type": "stream",
     "text": [
      "Enter number one:85\n",
      "Enter number two:5\n",
      "Pick operation (+, -, /, *):/\n",
      "85 / 5 = 17.0\n"
     ]
    }
   ],
   "source": [
    "try:\n",
    "    num1 = int(input('Enter number one:'))\n",
    "    num2 = int(input('Enter number two:'))\n",
    "    option = input('Pick operation (+, -, /, *):')\n",
    "    if option == '+':\n",
    "        print(f'{num1} + {num2} = {num1 + num2}')\n",
    "    elif option == '-':\n",
    "        print(f'{num1} - {num2} = {num1 - num2}')\n",
    "    elif option == '/':\n",
    "        print(f'{num1} / {num2} = {num1 / num2}')\n",
    "    elif option == '*':\n",
    "        print(f'{num1} * {num2} = {num1 * num2}')\n",
    "except ValueError:\n",
    "    print('Incorrect value only whole number is requested')\n",
    "except ZeroDivisionError:\n",
    "    print('You cannot divide a number by zero')\n",
    "except:\n",
    "    print('You have encountered one or more errors')"
   ]
  },
  {
   "cell_type": "code",
   "execution_count": 10,
   "id": "4ba93d35",
   "metadata": {},
   "outputs": [
    {
     "name": "stdout",
     "output_type": "stream",
     "text": [
      "Enter number one:25\n",
      "Enter number two:10\n",
      "Pick operation (+, -, /, *):-\n",
      "25 - 10 = 15\n",
      "95367431640625\n",
      "End of program\n"
     ]
    }
   ],
   "source": [
    "try:\n",
    "    num1 = int(input('Enter number one:'))\n",
    "    num2 = int(input('Enter number two:'))\n",
    "    option = input('Pick operation (+, -, /, *):')\n",
    "    if option == '+':\n",
    "        print(f'{num1} + {num2} = {num1 + num2}')\n",
    "    elif option == '-':\n",
    "        print(f'{num1} - {num2} = {num1 - num2}')\n",
    "    elif option == '/':\n",
    "        print(f'{num1} / {num2} = {num1 / num2}')\n",
    "    elif option == '*':\n",
    "        print(f'{num1} * {num2} = {num1 * num2}')\n",
    "except ValueError:\n",
    "    print('Incorrect value only whole number is requested')\n",
    "except ZeroDivisionError:\n",
    "    print('You cannot divide a number by zero')\n",
    "except:\n",
    "    print('You have encountered one or more errors')\n",
    "else:\n",
    "    print(num1 ** num2)\n",
    "finally:\n",
    "    print('End of program')"
   ]
  },
  {
   "cell_type": "code",
   "execution_count": null,
   "id": "cec86981",
   "metadata": {},
   "outputs": [],
   "source": []
  }
 ],
 "metadata": {
  "kernelspec": {
   "display_name": "Python 3 (ipykernel)",
   "language": "python",
   "name": "python3"
  },
  "language_info": {
   "codemirror_mode": {
    "name": "ipython",
    "version": 3
   },
   "file_extension": ".py",
   "mimetype": "text/x-python",
   "name": "python",
   "nbconvert_exporter": "python",
   "pygments_lexer": "ipython3",
   "version": "3.9.12"
  }
 },
 "nbformat": 4,
 "nbformat_minor": 5
}
