{
 "cells": [
  {
   "cell_type": "markdown",
   "metadata": {},
   "source": [
    "# EXERCISE\n",
    "# How can a ride-sharing app use a function to calculate the estimated fare for a trip, based on the distance and time of day?\n"
   ]
  },
  {
   "cell_type": "code",
   "execution_count": 2,
   "metadata": {},
   "outputs": [
    {
     "name": "stdout",
     "output_type": "stream",
     "text": [
      "Enter distance in km:45\n",
      "Enter time of the day:afternoon\n",
      "Your trip fare is 9000.0\n"
     ]
    }
   ],
   "source": [
    "def rideapp():\n",
    "    per5kmmorning = 350\n",
    "    per5kmafternoon = 200\n",
    "    per5kmevening = 400\n",
    "    distance = float(input('Enter distance in km:'))\n",
    "    time = input('Enter time of the day:')\n",
    "    if distance >= 5 and time =='morning':\n",
    "        print(f'Your trip fare is {distance * per5kmmorning}')\n",
    "    elif distance >= 5 and time =='afternoon':\n",
    "        print(f'Your trip fare is {distance * per5kmafternoon}')\n",
    "    elif distance >= 5 and time == 'evening':\n",
    "         print(f'Your trip fare is {distance * per5kmafternoon}')\n",
    "    else:\n",
    "        print('Invalid input')\n",
    "rideapp()"
   ]
  },
  {
   "cell_type": "markdown",
   "metadata": {},
   "source": [
    "# In a hospital, how can you use a function to calculate a patient's BMI (body mass index), based on their height and weight measurements?¶"
   ]
  },
  {
   "cell_type": "code",
   "execution_count": null,
   "metadata": {},
   "outputs": [],
   "source": [
    "# weight/height**2 "
   ]
  }
 ],
 "metadata": {
  "kernelspec": {
   "display_name": "Python 3",
   "language": "python",
   "name": "python3"
  },
  "language_info": {
   "codemirror_mode": {
    "name": "ipython",
    "version": 3
   },
   "file_extension": ".py",
   "mimetype": "text/x-python",
   "name": "python",
   "nbconvert_exporter": "python",
   "pygments_lexer": "ipython3",
   "version": "3.8.3"
  }
 },
 "nbformat": 4,
 "nbformat_minor": 4
}
